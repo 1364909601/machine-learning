{
 "cells": [
  {
   "cell_type": "code",
   "execution_count": 4,
   "metadata": {},
   "outputs": [
    {
     "data": {
      "text/plain": [
       "array([[   6.   ,  148.   ,   72.   , ...,    0.627,   50.   ,    1.   ],\n",
       "       [   1.   ,   85.   ,   66.   , ...,    0.351,   31.   ,    0.   ],\n",
       "       [   8.   ,  183.   ,   64.   , ...,    0.672,   32.   ,    1.   ],\n",
       "       ..., \n",
       "       [   5.   ,  121.   ,   72.   , ...,    0.245,   30.   ,    0.   ],\n",
       "       [   1.   ,  126.   ,   60.   , ...,    0.349,   47.   ,    1.   ],\n",
       "       [   1.   ,   93.   ,   70.   , ...,    0.315,   23.   ,    0.   ]])"
      ]
     },
     "execution_count": 4,
     "metadata": {},
     "output_type": "execute_result"
    }
   ],
   "source": [
    "#1 导入库\n",
    "\n",
    "from numpy import loadtxt\n",
    "\n",
    "from xgboost import XGBClassifier\n",
    "\n",
    "from sklearn.model_selection import train_test_split\n",
    "\n",
    "from sklearn.metrics import accuracy_score\n",
    "\n",
    "import numpy as np\n",
    "#2 加载糖尿病人数据集\n",
    "\n",
    "dataset = loadtxt('./dataset/pima-indians-diabetes.csv',delimiter=\",\")\n",
    "\n",
    "dataset"
   ]
  },
  {
   "cell_type": "code",
   "execution_count": null,
   "metadata": {
    "collapsed": true
   },
   "outputs": [],
   "source": []
  },
  {
   "cell_type": "code",
   "execution_count": 5,
   "metadata": {},
   "outputs": [
    {
     "data": {
      "text/plain": [
       "(768, 9)"
      ]
     },
     "execution_count": 5,
     "metadata": {},
     "output_type": "execute_result"
    }
   ],
   "source": [
    "np.shape(dataset)"
   ]
  },
  {
   "cell_type": "code",
   "execution_count": 8,
   "metadata": {},
   "outputs": [
    {
     "name": "stdout",
     "output_type": "stream",
     "text": [
      "精度等于: 81.818%\n"
     ]
    }
   ],
   "source": [
    "#3 分割数据为 X 和 y\n",
    "\n",
    "X = dataset[:,0:8]\n",
    "\n",
    "Y = dataset[:,8]\n",
    "\n",
    "X_train,X_test, y_train, y_test = train_test_split(X,  \n",
    "                                                   Y,  \n",
    "                                                   test_size = 0.2,  \n",
    "                                                   random_state = 0) \n",
    "#4 用训练数据进行模型拟合\n",
    "\n",
    "model = XGBClassifier()\n",
    "\n",
    "model.fit(X_train,y_train)\n",
    "\n",
    "#5 用测试数据进行预测\n",
    "\n",
    "y_pred = model.predict(X_test)\n",
    "\n",
    "predictions = [round(value) for value in y_pred]\n",
    "\n",
    "#6 评估预测精度\n",
    "\n",
    "accuracy = accuracy_score(y_test,predictions)\n",
    "\n",
    "print(\"精度等于: %.3f%%\" %(accuracy*100.0))\n"
   ]
  },
  {
   "cell_type": "code",
   "execution_count": null,
   "metadata": {
    "collapsed": true
   },
   "outputs": [],
   "source": []
  },
  {
   "cell_type": "code",
   "execution_count": 9,
   "metadata": {
    "collapsed": true
   },
   "outputs": [
    {
     "name": "stdout",
     "output_type": "stream",
     "text": [
      "[0]\tvalidation_0-logloss:0.656425\n",
      "Will train until validation_0-logloss hasn't improved in 15 rounds.\n",
      "[1]\tvalidation_0-logloss:0.627071\n",
      "[2]\tvalidation_0-logloss:0.601671\n",
      "[3]\tvalidation_0-logloss:0.58101\n",
      "[4]\tvalidation_0-logloss:0.563346\n",
      "[5]\tvalidation_0-logloss:0.549589\n",
      "[6]\tvalidation_0-logloss:0.536902\n",
      "[7]\tvalidation_0-logloss:0.524867\n",
      "[8]\tvalidation_0-logloss:0.513963\n",
      "[9]\tvalidation_0-logloss:0.506112\n",
      "[10]\tvalidation_0-logloss:0.499457\n",
      "[11]\tvalidation_0-logloss:0.490964\n",
      "[12]\tvalidation_0-logloss:0.484294\n",
      "[13]\tvalidation_0-logloss:0.47902\n",
      "[14]\tvalidation_0-logloss:0.474576\n",
      "[15]\tvalidation_0-logloss:0.471652\n",
      "[16]\tvalidation_0-logloss:0.466856\n",
      "[17]\tvalidation_0-logloss:0.464811\n",
      "[18]\tvalidation_0-logloss:0.462134\n",
      "[19]\tvalidation_0-logloss:0.461884\n",
      "[20]\tvalidation_0-logloss:0.459974\n",
      "[21]\tvalidation_0-logloss:0.455386\n",
      "[22]\tvalidation_0-logloss:0.454066\n",
      "[23]\tvalidation_0-logloss:0.452117\n",
      "[24]\tvalidation_0-logloss:0.449036\n",
      "[25]\tvalidation_0-logloss:0.448579\n",
      "[26]\tvalidation_0-logloss:0.445194\n",
      "[27]\tvalidation_0-logloss:0.44506\n",
      "[28]\tvalidation_0-logloss:0.443048\n",
      "[29]\tvalidation_0-logloss:0.444193\n",
      "[30]\tvalidation_0-logloss:0.44188\n",
      "[31]\tvalidation_0-logloss:0.440414\n",
      "[32]\tvalidation_0-logloss:0.441208\n",
      "[33]\tvalidation_0-logloss:0.439886\n",
      "[34]\tvalidation_0-logloss:0.439449\n",
      "[35]\tvalidation_0-logloss:0.437607\n",
      "[36]\tvalidation_0-logloss:0.439057\n",
      "[37]\tvalidation_0-logloss:0.436172\n",
      "[38]\tvalidation_0-logloss:0.435176\n",
      "[39]\tvalidation_0-logloss:0.434257\n",
      "[40]\tvalidation_0-logloss:0.435038\n",
      "[41]\tvalidation_0-logloss:0.434383\n",
      "[42]\tvalidation_0-logloss:0.433291\n",
      "[43]\tvalidation_0-logloss:0.434153\n",
      "[44]\tvalidation_0-logloss:0.433601\n",
      "[45]\tvalidation_0-logloss:0.433458\n",
      "[46]\tvalidation_0-logloss:0.432312\n",
      "[47]\tvalidation_0-logloss:0.431129\n",
      "[48]\tvalidation_0-logloss:0.429778\n",
      "[49]\tvalidation_0-logloss:0.429744\n",
      "[50]\tvalidation_0-logloss:0.428391\n",
      "[51]\tvalidation_0-logloss:0.427876\n",
      "[52]\tvalidation_0-logloss:0.427175\n",
      "[53]\tvalidation_0-logloss:0.426995\n",
      "[54]\tvalidation_0-logloss:0.426439\n",
      "[55]\tvalidation_0-logloss:0.425028\n",
      "[56]\tvalidation_0-logloss:0.425278\n",
      "[57]\tvalidation_0-logloss:0.425115\n",
      "[58]\tvalidation_0-logloss:0.42522\n",
      "[59]\tvalidation_0-logloss:0.425368\n",
      "[60]\tvalidation_0-logloss:0.424138\n",
      "[61]\tvalidation_0-logloss:0.424303\n",
      "[62]\tvalidation_0-logloss:0.42329\n",
      "[63]\tvalidation_0-logloss:0.42223\n",
      "[64]\tvalidation_0-logloss:0.422523\n",
      "[65]\tvalidation_0-logloss:0.421187\n",
      "[66]\tvalidation_0-logloss:0.420435\n",
      "[67]\tvalidation_0-logloss:0.41981\n",
      "[68]\tvalidation_0-logloss:0.419243\n",
      "[69]\tvalidation_0-logloss:0.419841\n",
      "[70]\tvalidation_0-logloss:0.419473\n",
      "[71]\tvalidation_0-logloss:0.418583\n",
      "[72]\tvalidation_0-logloss:0.419521\n",
      "[73]\tvalidation_0-logloss:0.419698\n",
      "[74]\tvalidation_0-logloss:0.419033\n",
      "[75]\tvalidation_0-logloss:0.41924\n",
      "[76]\tvalidation_0-logloss:0.42057\n",
      "[77]\tvalidation_0-logloss:0.421046\n",
      "[78]\tvalidation_0-logloss:0.421129\n",
      "[79]\tvalidation_0-logloss:0.420328\n",
      "[80]\tvalidation_0-logloss:0.419759\n",
      "[81]\tvalidation_0-logloss:0.419978\n",
      "[82]\tvalidation_0-logloss:0.41881\n",
      "[83]\tvalidation_0-logloss:0.418094\n",
      "[84]\tvalidation_0-logloss:0.417763\n",
      "[85]\tvalidation_0-logloss:0.417643\n",
      "[86]\tvalidation_0-logloss:0.417281\n",
      "[87]\tvalidation_0-logloss:0.418091\n",
      "[88]\tvalidation_0-logloss:0.419046\n",
      "[89]\tvalidation_0-logloss:0.418382\n",
      "[90]\tvalidation_0-logloss:0.418279\n",
      "[91]\tvalidation_0-logloss:0.41824\n",
      "[92]\tvalidation_0-logloss:0.418554\n",
      "[93]\tvalidation_0-logloss:0.419503\n",
      "[94]\tvalidation_0-logloss:0.41892\n",
      "[95]\tvalidation_0-logloss:0.418569\n",
      "[96]\tvalidation_0-logloss:0.418986\n",
      "[97]\tvalidation_0-logloss:0.419419\n",
      "[98]\tvalidation_0-logloss:0.420325\n",
      "[99]\tvalidation_0-logloss:0.419984\n"
     ]
    },
    {
     "data": {
      "text/plain": [
       "XGBClassifier(base_score=0.5, booster='gbtree', colsample_bylevel=1,\n",
       "       colsample_bytree=1, gamma=0, learning_rate=0.1, max_delta_step=0,\n",
       "       max_depth=3, min_child_weight=1, missing=None, n_estimators=100,\n",
       "       n_jobs=1, nthread=None, objective='binary:logistic', random_state=0,\n",
       "       reg_alpha=0, reg_lambda=1, scale_pos_weight=1, seed=None,\n",
       "       silent=True, subsample=1)"
      ]
     },
     "execution_count": 9,
     "metadata": {},
     "output_type": "execute_result"
    }
   ],
   "source": [
    "evals = [(X_test,y_test)]\n",
    "\n",
    "model.fit(X_train,y_train,early_stopping_rounds=15,eval_metric=\"logloss\",eval_set=evals, verbose=True)"
   ]
  },
  {
   "cell_type": "code",
   "execution_count": null,
   "metadata": {
    "collapsed": true
   },
   "outputs": [],
   "source": []
  },
  {
   "cell_type": "code",
   "execution_count": 12,
   "metadata": {},
   "outputs": [
    {
     "data": {
      "image/png": "[encoded data removed]",
      "text/plain": [
       "<matplotlib.figure.Figure at 0x1fe3eddacc0>"
      ]
     },
     "metadata": {},
     "output_type": "display_data"
    },
    {
     "data": {
      "image/png": "[encoded data removed]",
      "text/plain": [
       "<matplotlib.figure.Figure at 0x1fe3f7a90f0>"
      ]
     },
     "metadata": {},
     "output_type": "display_data"
    },
    {
     "data": {
      "image/png": "[encoded data removed]",
      "text/plain": [
       "<matplotlib.figure.Figure at 0x1fe3f91feb8>"
      ]
     },
     "metadata": {},
     "output_type": "display_data"
    }
   ],
   "source": [
    "from xgboost import plot_importance\n",
    "import matplotlib.pyplot as plt\n",
    "\n",
    "#绘制特征的重要性\n",
    "\n",
    "plot_importance(model)\n",
    "\n",
    "plt.show()"
   ]
  },
  {
   "cell_type": "code",
   "execution_count": null,
   "metadata": {
    "collapsed": true
   },
   "outputs": [],
   "source": []
  },
  {
   "cell_type": "code",
   "execution_count": null,
   "metadata": {
    "collapsed": true
   },
   "outputs": [],
   "source": []
  },
  {
   "cell_type": "code",
   "execution_count": null,
   "metadata": {
    "collapsed": true
   },
   "outputs": [],
   "source": []
  }
 ],
 "metadata": {
  "kernelspec": {
   "display_name": "Python 3",
   "language": "python",
   "name": "python3"
  },
  "language_info": {
   "codemirror_mode": {
    "name": "ipython",
    "version": 3
   },
   "file_extension": ".py",
   "mimetype": "text/x-python",
   "name": "python",
   "nbconvert_exporter": "python",
   "pygments_lexer": "ipython3",
   "version": "3.6.1"
  }
 },
 "nbformat": 4,
 "nbformat_minor": 2
}
