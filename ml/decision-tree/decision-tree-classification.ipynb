{
 "cells": [
  {
   "cell_type": "code",
   "execution_count": 1,
   "metadata": {},
   "outputs": [
    {
     "data": {
      "image/png": "[encoded data removed]",
      "text/plain": [
       "<matplotlib.figure.Figure at 0x24b2b30d438>"
      ]
     },
     "metadata": {},
     "output_type": "display_data"
    }
   ],
   "source": [
    "import numpy as np\n",
    "import matplotlib.pyplot as plt\n",
    "#按照一定规律均匀分布含有两个特征的数据点\n",
    "def createData(samplecnt,coef=1.0,intercept=0.05):\n",
    "    x1 = np.random.uniform(0,1,samplecnt)\n",
    "    x2 = np.random.uniform(0,1,samplecnt)\n",
    "    index = (x2-intercept)/x1 <coef\n",
    "    x1_pos = x1[index]\n",
    "    x2_pos = x2[index]\n",
    "    index = (x2-intercept)/x1 >=coef\n",
    "    x1_neg = x1[index]\n",
    "    x2_neg = x2[index]\n",
    "    plt.xlabel(\"w1\")\n",
    "    plt.ylabel(\"w2\")\n",
    "    plt.scatter(x1_pos,x2_pos)\n",
    "    plt.scatter(x1_neg,x2_neg)\n",
    "    regx = np.linspace(0,1,samplecnt)\n",
    "    regy = coef*regx+intercept\n",
    "    #plt.plot(regx,regy,color='g')\n",
    "    plt.show()\n",
    "    return x1_pos,x1_neg,x2_pos,x2_neg\n",
    "#组合成原始数据\n",
    "def combine_data(x1_pos,x1_neg,x2_pos,x2_neg):\n",
    "    x1_pos_1 = x1_pos.reshape(-1,1)\n",
    "    x2_pos_1 = x2_pos.reshape(-1,1)\n",
    "    x_pos = np.concatenate((x1_pos_1,x2_pos_1),axis=1)\n",
    "    x_pos_shape =  np.shape(x_pos)\n",
    "    y_pos = np.ones(x_pos_shape[0])\n",
    "    y_pos = y_pos.reshape(-1,1)\n",
    "    data_pos = np.concatenate((x_pos,y_pos),axis=1)\n",
    "    x1_neg_1 = x1_neg.reshape(-1,1)\n",
    "    x2_neg_1 = x2_neg.reshape(-1,1)\n",
    "    x_neg = np.concatenate((x1_neg_1,x2_neg_1),axis=1)\n",
    "    x_neg_shape =  np.shape(x_neg)\n",
    "    y_neg = np.zeros(x_neg_shape[0])\n",
    "    y_neg = y_neg.reshape(-1,1)\n",
    "    data_neg = np.concatenate((x_neg,y_neg),axis=1)\n",
    "    data = np.vstack((data_pos,data_neg))\n",
    "    data = np.random.permutation(data)\n",
    "    return data\n",
    "\n",
    "x1_pos,x1_neg,x2_pos,x2_neg = createData(200)\n",
    "data = combine_data(x1_pos,x1_neg,x2_pos,x2_neg)\n",
    "\n",
    "\n"
   ]
  },
  {
   "cell_type": "code",
   "execution_count": 4,
   "metadata": {
    "collapsed": true
   },
   "outputs": [
    {
     "data": {
      "text/plain": [
       "array([[ 1.        ,  0.62176479,  0.89717568,  0.        ],\n",
       "       [ 1.        ,  0.94850476,  0.3460985 ,  1.        ],\n",
       "       [ 1.        ,  0.52470078,  0.97023675,  0.        ],\n",
       "       [ 1.        ,  0.05961632,  0.67430337,  0.        ],\n",
       "       [ 1.        ,  0.40353568,  0.06709823,  1.        ],\n",
       "       [ 1.        ,  0.7036515 ,  0.47146513,  1.        ],\n",
       "       [ 1.        ,  0.71157468,  0.79940175,  0.        ],\n",
       "       [ 1.        ,  0.79185594,  0.07933655,  1.        ],\n",
       "       [ 1.        ,  0.6354002 ,  0.28561971,  1.        ],\n",
       "       [ 1.        ,  0.05652553,  0.10832418,  0.        ],\n",
       "       [ 1.        ,  0.78970762,  0.19074113,  1.        ],\n",
       "       [ 1.        ,  0.41251384,  0.85928314,  0.        ],\n",
       "       [ 1.        ,  0.2998848 ,  0.81757165,  0.        ],\n",
       "       [ 1.        ,  0.46970769,  0.26056731,  1.        ],\n",
       "       [ 1.        ,  0.92712171,  0.92545075,  1.        ],\n",
       "       [ 1.        ,  0.55289587,  0.99296063,  0.        ],\n",
       "       [ 1.        ,  0.94954528,  0.42578834,  1.        ],\n",
       "       [ 1.        ,  0.09533069,  0.24584353,  0.        ],\n",
       "       [ 1.        ,  0.34030459,  0.73984796,  0.        ],\n",
       "       [ 1.        ,  0.44435919,  0.90694624,  0.        ],\n",
       "       [ 1.        ,  0.64638365,  0.49161262,  1.        ],\n",
       "       [ 1.        ,  0.92450883,  0.78514793,  1.        ],\n",
       "       [ 1.        ,  0.94823386,  0.14803573,  1.        ],\n",
       "       [ 1.        ,  0.50562698,  0.95993669,  0.        ],\n",
       "       [ 1.        ,  0.03952785,  0.65676175,  0.        ],\n",
       "       [ 1.        ,  0.45441196,  0.34144805,  1.        ],\n",
       "       [ 1.        ,  0.41797168,  0.82573351,  0.        ],\n",
       "       [ 1.        ,  0.88154072,  0.711616  ,  1.        ],\n",
       "       [ 1.        ,  0.37103897,  0.94794827,  0.        ],\n",
       "       [ 1.        ,  0.72686754,  0.5320015 ,  1.        ],\n",
       "       [ 1.        ,  0.97540295,  0.9788434 ,  1.        ],\n",
       "       [ 1.        ,  0.41026571,  0.17724783,  1.        ],\n",
       "       [ 1.        ,  0.17396494,  0.5848166 ,  0.        ],\n",
       "       [ 1.        ,  0.60479356,  0.33173801,  1.        ],\n",
       "       [ 1.        ,  0.05853813,  0.59539213,  0.        ],\n",
       "       [ 1.        ,  0.26997222,  0.07990496,  1.        ],\n",
       "       [ 1.        ,  0.4114032 ,  0.06196141,  1.        ],\n",
       "       [ 1.        ,  0.03301198,  0.329066  ,  0.        ],\n",
       "       [ 1.        ,  0.94079478,  0.45166998,  1.        ],\n",
       "       [ 1.        ,  0.15698188,  0.67947873,  0.        ],\n",
       "       [ 1.        ,  0.23980454,  0.20672418,  1.        ],\n",
       "       [ 1.        ,  0.96942801,  0.87302442,  1.        ],\n",
       "       [ 1.        ,  0.86567909,  0.32223842,  1.        ],\n",
       "       [ 1.        ,  0.49918401,  0.72580691,  0.        ],\n",
       "       [ 1.        ,  0.36492199,  0.52738313,  0.        ],\n",
       "       [ 1.        ,  0.77148168,  0.61303115,  1.        ],\n",
       "       [ 1.        ,  0.08848921,  0.01218273,  1.        ],\n",
       "       [ 1.        ,  0.50620545,  0.78340516,  0.        ],\n",
       "       [ 1.        ,  0.95386066,  0.56182067,  1.        ],\n",
       "       [ 1.        ,  0.4624558 ,  0.35619541,  1.        ],\n",
       "       [ 1.        ,  0.18645574,  0.35216074,  0.        ],\n",
       "       [ 1.        ,  0.50872959,  0.21146424,  1.        ],\n",
       "       [ 1.        ,  0.6757797 ,  0.50357114,  1.        ],\n",
       "       [ 1.        ,  0.02951382,  0.54680991,  0.        ],\n",
       "       [ 1.        ,  0.83339485,  0.46788033,  1.        ],\n",
       "       [ 1.        ,  0.27488037,  0.58015215,  0.        ],\n",
       "       [ 1.        ,  0.49077294,  0.94534092,  0.        ],\n",
       "       [ 1.        ,  0.64089033,  0.30960753,  1.        ],\n",
       "       [ 1.        ,  0.76726193,  0.9277642 ,  0.        ],\n",
       "       [ 1.        ,  0.42969948,  0.27097338,  1.        ],\n",
       "       [ 1.        ,  0.79011784,  0.67776779,  1.        ],\n",
       "       [ 1.        ,  0.40755977,  0.36940804,  1.        ],\n",
       "       [ 1.        ,  0.25868374,  0.5188391 ,  0.        ],\n",
       "       [ 1.        ,  0.60623078,  0.30316202,  1.        ],\n",
       "       [ 1.        ,  0.98484786,  0.39746808,  1.        ],\n",
       "       [ 1.        ,  0.85795817,  0.67162367,  1.        ],\n",
       "       [ 1.        ,  0.6297288 ,  0.89981284,  0.        ],\n",
       "       [ 1.        ,  0.76479589,  0.25517941,  1.        ],\n",
       "       [ 1.        ,  0.30088094,  0.04202514,  1.        ],\n",
       "       [ 1.        ,  0.39155595,  0.36367346,  1.        ],\n",
       "       [ 1.        ,  0.81798755,  0.25993076,  1.        ],\n",
       "       [ 1.        ,  0.57058838,  0.78765584,  0.        ],\n",
       "       [ 1.        ,  0.09711429,  0.94091918,  0.        ],\n",
       "       [ 1.        ,  0.26117418,  0.00763   ,  1.        ],\n",
       "       [ 1.        ,  0.99930207,  0.98324743,  1.        ],\n",
       "       [ 1.        ,  0.709884  ,  0.25514597,  1.        ],\n",
       "       [ 1.        ,  0.51839742,  0.08554298,  1.        ],\n",
       "       [ 1.        ,  0.54442778,  0.08668506,  1.        ],\n",
       "       [ 1.        ,  0.21265521,  0.23730536,  1.        ],\n",
       "       [ 1.        ,  0.19191478,  0.44794035,  0.        ],\n",
       "       [ 1.        ,  0.64086941,  0.48699386,  1.        ],\n",
       "       [ 1.        ,  0.04887117,  0.25729283,  0.        ],\n",
       "       [ 1.        ,  0.05141679,  0.33523855,  0.        ],\n",
       "       [ 1.        ,  0.89692593,  0.47439328,  1.        ],\n",
       "       [ 1.        ,  0.08217365,  0.10488501,  1.        ],\n",
       "       [ 1.        ,  0.63416886,  0.3204556 ,  1.        ],\n",
       "       [ 1.        ,  0.04107788,  0.8556676 ,  0.        ],\n",
       "       [ 1.        ,  0.34799817,  0.84505499,  0.        ],\n",
       "       [ 1.        ,  0.17132341,  0.24256269,  0.        ],\n",
       "       [ 1.        ,  0.61409661,  0.50558306,  1.        ],\n",
       "       [ 1.        ,  0.02852475,  0.83302638,  0.        ],\n",
       "       [ 1.        ,  0.74536119,  0.22797596,  1.        ],\n",
       "       [ 1.        ,  0.09860126,  0.7862665 ,  0.        ],\n",
       "       [ 1.        ,  0.19005671,  0.45954378,  0.        ],\n",
       "       [ 1.        ,  0.14508439,  0.25845281,  0.        ],\n",
       "       [ 1.        ,  0.75406049,  0.03861145,  1.        ],\n",
       "       [ 1.        ,  0.16645352,  0.00339452,  1.        ],\n",
       "       [ 1.        ,  0.83168958,  0.33016293,  1.        ],\n",
       "       [ 1.        ,  0.0723594 ,  0.57071426,  0.        ],\n",
       "       [ 1.        ,  0.651052  ,  0.46838803,  1.        ],\n",
       "       [ 1.        ,  0.89999359,  0.92828907,  1.        ],\n",
       "       [ 1.        ,  0.01226084,  0.41122342,  0.        ],\n",
       "       [ 1.        ,  0.42367553,  0.66872626,  0.        ],\n",
       "       [ 1.        ,  0.59462302,  0.29559389,  1.        ],\n",
       "       [ 1.        ,  0.48169373,  0.19154709,  1.        ],\n",
       "       [ 1.        ,  0.19012009,  0.73897785,  0.        ],\n",
       "       [ 1.        ,  0.44617412,  0.98733062,  0.        ],\n",
       "       [ 1.        ,  0.8153716 ,  0.08854504,  1.        ],\n",
       "       [ 1.        ,  0.79342375,  0.20966628,  1.        ],\n",
       "       [ 1.        ,  0.1291633 ,  0.13576526,  1.        ],\n",
       "       [ 1.        ,  0.36504833,  0.94010588,  0.        ],\n",
       "       [ 1.        ,  0.95894837,  0.86905847,  1.        ],\n",
       "       [ 1.        ,  0.00203733,  0.83020262,  0.        ],\n",
       "       [ 1.        ,  0.37308878,  0.88736948,  0.        ],\n",
       "       [ 1.        ,  0.36910135,  0.5685604 ,  0.        ],\n",
       "       [ 1.        ,  0.61926995,  0.81878261,  0.        ],\n",
       "       [ 1.        ,  0.96389737,  0.96587751,  1.        ],\n",
       "       [ 1.        ,  0.52511884,  0.63311126,  0.        ],\n",
       "       [ 1.        ,  0.62227552,  0.8744081 ,  0.        ],\n",
       "       [ 1.        ,  0.29443739,  0.74160772,  0.        ],\n",
       "       [ 1.        ,  0.17555906,  0.43451531,  0.        ],\n",
       "       [ 1.        ,  0.96690915,  0.91558023,  1.        ],\n",
       "       [ 1.        ,  0.79729456,  0.91323337,  0.        ],\n",
       "       [ 1.        ,  0.12352649,  0.54453003,  0.        ],\n",
       "       [ 1.        ,  0.44845261,  0.35384051,  1.        ],\n",
       "       [ 1.        ,  0.39263175,  0.37319914,  1.        ],\n",
       "       [ 1.        ,  0.44270944,  0.87345961,  0.        ],\n",
       "       [ 1.        ,  0.33017749,  0.5463423 ,  0.        ],\n",
       "       [ 1.        ,  0.63178078,  0.92028907,  0.        ],\n",
       "       [ 1.        ,  0.40453667,  0.57224471,  0.        ],\n",
       "       [ 1.        ,  0.95983622,  0.01683912,  1.        ],\n",
       "       [ 1.        ,  0.72832982,  0.05663293,  1.        ],\n",
       "       [ 1.        ,  0.13580034,  0.7763002 ,  0.        ],\n",
       "       [ 1.        ,  0.66346983,  0.1114734 ,  1.        ],\n",
       "       [ 1.        ,  0.08482843,  0.49280889,  0.        ],\n",
       "       [ 1.        ,  0.86167091,  0.27872406,  1.        ],\n",
       "       [ 1.        ,  0.18861052,  0.61751879,  0.        ],\n",
       "       [ 1.        ,  0.79293614,  0.32570365,  1.        ],\n",
       "       [ 1.        ,  0.8691675 ,  0.67975373,  1.        ],\n",
       "       [ 1.        ,  0.14323732,  0.64443727,  0.        ],\n",
       "       [ 1.        ,  0.55161001,  0.4109234 ,  1.        ],\n",
       "       [ 1.        ,  0.05981122,  0.88173648,  0.        ],\n",
       "       [ 1.        ,  0.28368412,  0.59323457,  0.        ],\n",
       "       [ 1.        ,  0.34904408,  0.48628524,  0.        ],\n",
       "       [ 1.        ,  0.00479427,  0.63095896,  0.        ],\n",
       "       [ 1.        ,  0.75252807,  0.59233716,  1.        ],\n",
       "       [ 1.        ,  0.91441132,  0.19118027,  1.        ],\n",
       "       [ 1.        ,  0.41623734,  0.00105961,  1.        ],\n",
       "       [ 1.        ,  0.60419485,  0.68011085,  0.        ],\n",
       "       [ 1.        ,  0.64600594,  0.16170187,  1.        ],\n",
       "       [ 1.        ,  0.73400073,  0.88658435,  0.        ],\n",
       "       [ 1.        ,  0.03091897,  0.02129286,  1.        ],\n",
       "       [ 1.        ,  0.28735163,  0.88727994,  0.        ],\n",
       "       [ 1.        ,  0.80887451,  0.57856078,  1.        ],\n",
       "       [ 1.        ,  0.80348809,  0.73049891,  1.        ],\n",
       "       [ 1.        ,  0.11624759,  0.94805754,  0.        ],\n",
       "       [ 1.        ,  0.06368195,  0.51983395,  0.        ],\n",
       "       [ 1.        ,  0.00517554,  0.41772511,  0.        ],\n",
       "       [ 1.        ,  0.98185949,  0.38933351,  1.        ],\n",
       "       [ 1.        ,  0.18380096,  0.00647748,  1.        ],\n",
       "       [ 1.        ,  0.65438444,  0.59290087,  1.        ],\n",
       "       [ 1.        ,  0.7414136 ,  0.90427726,  0.        ],\n",
       "       [ 1.        ,  0.73302708,  0.69273089,  1.        ],\n",
       "       [ 1.        ,  0.05877216,  0.27118536,  0.        ],\n",
       "       [ 1.        ,  0.25285074,  0.52066277,  0.        ],\n",
       "       [ 1.        ,  0.73297327,  0.18805695,  1.        ],\n",
       "       [ 1.        ,  0.61190778,  0.01540459,  1.        ],\n",
       "       [ 1.        ,  0.26252258,  0.47232239,  0.        ],\n",
       "       [ 1.        ,  0.3987073 ,  0.17737168,  1.        ],\n",
       "       [ 1.        ,  0.57235231,  0.96569033,  0.        ],\n",
       "       [ 1.        ,  0.5007973 ,  0.76637755,  0.        ],\n",
       "       [ 1.        ,  0.70680389,  0.90221047,  0.        ],\n",
       "       [ 1.        ,  0.27676572,  0.89442505,  0.        ],\n",
       "       [ 1.        ,  0.23672443,  0.69262437,  0.        ],\n",
       "       [ 1.        ,  0.13730589,  0.671653  ,  0.        ],\n",
       "       [ 1.        ,  0.25863973,  0.23656823,  1.        ],\n",
       "       [ 1.        ,  0.12667758,  0.15801424,  1.        ],\n",
       "       [ 1.        ,  0.24551104,  0.54166015,  0.        ],\n",
       "       [ 1.        ,  0.91310248,  0.12965405,  1.        ],\n",
       "       [ 1.        ,  0.62966359,  0.58347658,  1.        ],\n",
       "       [ 1.        ,  0.70406558,  0.20644069,  1.        ],\n",
       "       [ 1.        ,  0.4920016 ,  0.22757782,  1.        ],\n",
       "       [ 1.        ,  0.94606953,  0.89519073,  1.        ],\n",
       "       [ 1.        ,  0.41441864,  0.54141163,  0.        ],\n",
       "       [ 1.        ,  0.10919334,  0.74454553,  0.        ],\n",
       "       [ 1.        ,  0.50140818,  0.51523717,  1.        ],\n",
       "       [ 1.        ,  0.03915029,  0.49040003,  0.        ],\n",
       "       [ 1.        ,  0.61910717,  0.51986539,  1.        ],\n",
       "       [ 1.        ,  0.3208154 ,  0.44856396,  0.        ],\n",
       "       [ 1.        ,  0.8919777 ,  0.01965043,  1.        ],\n",
       "       [ 1.        ,  0.85390031,  0.51216103,  1.        ],\n",
       "       [ 1.        ,  0.01686691,  0.43020374,  0.        ],\n",
       "       [ 1.        ,  0.24176792,  0.28738372,  1.        ],\n",
       "       [ 1.        ,  0.85001583,  0.22785954,  1.        ],\n",
       "       [ 1.        ,  0.99440356,  0.88594411,  1.        ],\n",
       "       [ 1.        ,  0.91297966,  0.6354923 ,  1.        ],\n",
       "       [ 1.        ,  0.45192619,  0.51467038,  0.        ],\n",
       "       [ 1.        ,  0.47407793,  0.63349425,  0.        ],\n",
       "       [ 1.        ,  0.58817317,  0.42344803,  1.        ],\n",
       "       [ 1.        ,  0.51188473,  0.08060376,  1.        ]])"
      ]
     },
     "execution_count": 4,
     "metadata": {},
     "output_type": "execute_result"
    }
   ],
   "source": [
    "'偏移量 b shape=(200,1)'\n",
    "b = np.ones(200).reshape(-1,1)\n",
    "'将偏移量与2个特征值组合 shape = (200,3)'\n",
    "data = np.hstack((b,data))\n",
    "\n",
    "#data中第一列为偏置项\n",
    "#第二列为第一个特征\n",
    "#第三列为第二个特征\n",
    "#第四列为标签值\n",
    "\n",
    "data\n"
   ]
  },
  {
   "cell_type": "code",
   "execution_count": 33,
   "metadata": {},
   "outputs": [
    {
     "data": {
      "image/svg+xml": [
       "<?xml version=\"1.0\" encoding=\"UTF-8\" standalone=\"no\"?>\r\n",
       "<!DOCTYPE svg PUBLIC \"-//W3C//DTD SVG 1.1//EN\"\r\n",
       " \"http://www.w3.org/Graphics/SVG/1.1/DTD/svg11.dtd\">\r\n",
       "<!-- Generated by graphviz version 2.38.0 (20140413.2041)\r\n",
       " -->\r\n",
       "<!-- Title: Tree Pages: 1 -->\r\n",
       "<svg width=\"484pt\" height=\"304pt\"\r\n",
       " viewBox=\"0.00 0.00 484.00 304.00\" xmlns=\"http://www.w3.org/2000/svg\" xmlns:xlink=\"http://www.w3.org/1999/xlink\">\r\n",
       "<g id=\"graph0\" class=\"graph\" transform=\"scale(1 1) rotate(0) translate(4 300)\">\r\n",
       "<title>Tree</title>\r\n",
       "<polygon fill=\"white\" stroke=\"none\" points=\"-4,4 -4,-300 480,-300 480,4 -4,4\"/>\r\n",
       "<!-- 0 -->\r\n",
       "<g id=\"node1\" class=\"node\"><title>0</title>\r\n",
       "<path fill=\"#399de5\" fill-opacity=\"0.129412\" stroke=\"black\" d=\"M286.5,-296C286.5,-296 188.5,-296 188.5,-296 182.5,-296 176.5,-290 176.5,-284 176.5,-284 176.5,-230 176.5,-230 176.5,-224 182.5,-218 188.5,-218 188.5,-218 286.5,-218 286.5,-218 292.5,-218 298.5,-224 298.5,-230 298.5,-230 298.5,-284 298.5,-284 298.5,-290 292.5,-296 286.5,-296\"/>\r\n",
       "<text text-anchor=\"start\" x=\"203\" y=\"-281.8\" font-family=\"Helvetica,sans-Serif\" font-size=\"14.00\">X</text>\r\n",
       "<text text-anchor=\"start\" x=\"213\" y=\"-281.8\" font-family=\"Helvetica,sans-Serif\" baseline-shift=\"sub\" font-size=\"14.00\">0</text>\r\n",
       "<text text-anchor=\"start\" x=\"220\" y=\"-281.8\" font-family=\"Helvetica,sans-Serif\" font-size=\"14.00\"> ≤ 0.633</text>\r\n",
       "<text text-anchor=\"start\" x=\"196\" y=\"-267.8\" font-family=\"Helvetica,sans-Serif\" font-size=\"14.00\">gini = 0.4976</text>\r\n",
       "<text text-anchor=\"start\" x=\"190\" y=\"-253.8\" font-family=\"Helvetica,sans-Serif\" font-size=\"14.00\">samples = 200</text>\r\n",
       "<text text-anchor=\"start\" x=\"184.5\" y=\"-239.8\" font-family=\"Helvetica,sans-Serif\" font-size=\"14.00\">value = [93, 107]</text>\r\n",
       "<text text-anchor=\"start\" x=\"208.5\" y=\"-225.8\" font-family=\"Helvetica,sans-Serif\" font-size=\"14.00\">class = 1</text>\r\n",
       "</g>\r\n",
       "<!-- 1 -->\r\n",
       "<g id=\"node2\" class=\"node\"><title>1</title>\r\n",
       "<path fill=\"#e58139\" fill-opacity=\"0.505882\" stroke=\"black\" d=\"M219,-182C219,-182 130,-182 130,-182 124,-182 118,-176 118,-170 118,-170 118,-116 118,-116 118,-110 124,-104 130,-104 130,-104 219,-104 219,-104 225,-104 231,-110 231,-116 231,-116 231,-170 231,-170 231,-176 225,-182 219,-182\"/>\r\n",
       "<text text-anchor=\"start\" x=\"135.5\" y=\"-167.8\" font-family=\"Helvetica,sans-Serif\" font-size=\"14.00\">X</text>\r\n",
       "<text text-anchor=\"start\" x=\"145.5\" y=\"-167.8\" font-family=\"Helvetica,sans-Serif\" baseline-shift=\"sub\" font-size=\"14.00\">1</text>\r\n",
       "<text text-anchor=\"start\" x=\"152.5\" y=\"-167.8\" font-family=\"Helvetica,sans-Serif\" font-size=\"14.00\"> ≤ 0.4111</text>\r\n",
       "<text text-anchor=\"start\" x=\"133\" y=\"-153.8\" font-family=\"Helvetica,sans-Serif\" font-size=\"14.00\">gini = 0.4427</text>\r\n",
       "<text text-anchor=\"start\" x=\"127\" y=\"-139.8\" font-family=\"Helvetica,sans-Serif\" font-size=\"14.00\">samples = 130</text>\r\n",
       "<text text-anchor=\"start\" x=\"126\" y=\"-125.8\" font-family=\"Helvetica,sans-Serif\" font-size=\"14.00\">value = [87, 43]</text>\r\n",
       "<text text-anchor=\"start\" x=\"145.5\" y=\"-111.8\" font-family=\"Helvetica,sans-Serif\" font-size=\"14.00\">class = 0</text>\r\n",
       "</g>\r\n",
       "<!-- 0&#45;&gt;1 -->\r\n",
       "<g id=\"edge1\" class=\"edge\"><title>0&#45;&gt;1</title>\r\n",
       "<path fill=\"none\" stroke=\"black\" d=\"M215.995,-217.769C211.13,-209.119 205.909,-199.838 200.868,-190.877\"/>\r\n",
       "<polygon fill=\"black\" stroke=\"black\" points=\"203.861,-189.058 195.908,-182.058 197.76,-192.49 203.861,-189.058\"/>\r\n",
       "<text text-anchor=\"middle\" x=\"189.167\" y=\"-202.433\" font-family=\"Helvetica,sans-Serif\" font-size=\"14.00\">True</text>\r\n",
       "</g>\r\n",
       "<!-- 4 -->\r\n",
       "<g id=\"node5\" class=\"node\"><title>4</title>\r\n",
       "<path fill=\"#399de5\" fill-opacity=\"0.905882\" stroke=\"black\" d=\"M342,-182C342,-182 261,-182 261,-182 255,-182 249,-176 249,-170 249,-170 249,-116 249,-116 249,-110 255,-104 261,-104 261,-104 342,-104 342,-104 348,-104 354,-110 354,-116 354,-116 354,-170 354,-170 354,-176 348,-182 342,-182\"/>\r\n",
       "<text text-anchor=\"start\" x=\"262.5\" y=\"-167.8\" font-family=\"Helvetica,sans-Serif\" font-size=\"14.00\">X</text>\r\n",
       "<text text-anchor=\"start\" x=\"272.5\" y=\"-167.8\" font-family=\"Helvetica,sans-Serif\" baseline-shift=\"sub\" font-size=\"14.00\">1</text>\r\n",
       "<text text-anchor=\"start\" x=\"279.5\" y=\"-167.8\" font-family=\"Helvetica,sans-Serif\" font-size=\"14.00\"> ≤ 0.7923</text>\r\n",
       "<text text-anchor=\"start\" x=\"260\" y=\"-153.8\" font-family=\"Helvetica,sans-Serif\" font-size=\"14.00\">gini = 0.1567</text>\r\n",
       "<text text-anchor=\"start\" x=\"258\" y=\"-139.8\" font-family=\"Helvetica,sans-Serif\" font-size=\"14.00\">samples = 70</text>\r\n",
       "<text text-anchor=\"start\" x=\"257\" y=\"-125.8\" font-family=\"Helvetica,sans-Serif\" font-size=\"14.00\">value = [6, 64]</text>\r\n",
       "<text text-anchor=\"start\" x=\"272.5\" y=\"-111.8\" font-family=\"Helvetica,sans-Serif\" font-size=\"14.00\">class = 1</text>\r\n",
       "</g>\r\n",
       "<!-- 0&#45;&gt;4 -->\r\n",
       "<g id=\"edge4\" class=\"edge\"><title>0&#45;&gt;4</title>\r\n",
       "<path fill=\"none\" stroke=\"black\" d=\"M259.346,-217.769C264.289,-209.119 269.593,-199.838 274.713,-190.877\"/>\r\n",
       "<polygon fill=\"black\" stroke=\"black\" points=\"277.83,-192.477 279.752,-182.058 271.752,-189.004 277.83,-192.477\"/>\r\n",
       "<text text-anchor=\"middle\" x=\"286.33\" y=\"-202.478\" font-family=\"Helvetica,sans-Serif\" font-size=\"14.00\">False</text>\r\n",
       "</g>\r\n",
       "<!-- 2 -->\r\n",
       "<g id=\"node3\" class=\"node\"><title>2</title>\r\n",
       "<path fill=\"#399de5\" fill-opacity=\"0.764706\" stroke=\"black\" d=\"M93,-68C93,-68 12,-68 12,-68 6,-68 0,-62 0,-56 0,-56 0,-12 0,-12 0,-6 6,-0 12,-0 12,-0 93,-0 93,-0 99,-0 105,-6 105,-12 105,-12 105,-56 105,-56 105,-62 99,-68 93,-68\"/>\r\n",
       "<text text-anchor=\"start\" x=\"11\" y=\"-52.8\" font-family=\"Helvetica,sans-Serif\" font-size=\"14.00\">gini = 0.3096</text>\r\n",
       "<text text-anchor=\"start\" x=\"9\" y=\"-37.8\" font-family=\"Helvetica,sans-Serif\" font-size=\"14.00\">samples = 47</text>\r\n",
       "<text text-anchor=\"start\" x=\"8\" y=\"-22.8\" font-family=\"Helvetica,sans-Serif\" font-size=\"14.00\">value = [9, 38]</text>\r\n",
       "<text text-anchor=\"start\" x=\"23.5\" y=\"-7.8\" font-family=\"Helvetica,sans-Serif\" font-size=\"14.00\">class = 1</text>\r\n",
       "</g>\r\n",
       "<!-- 1&#45;&gt;2 -->\r\n",
       "<g id=\"edge2\" class=\"edge\"><title>1&#45;&gt;2</title>\r\n",
       "<path fill=\"none\" stroke=\"black\" d=\"M131.144,-103.975C120.452,-94.5973 108.969,-84.5262 98.1713,-75.056\"/>\r\n",
       "<polygon fill=\"black\" stroke=\"black\" points=\"100.277,-72.2474 90.4511,-68.2849 95.6614,-77.5101 100.277,-72.2474\"/>\r\n",
       "</g>\r\n",
       "<!-- 3 -->\r\n",
       "<g id=\"node4\" class=\"node\"><title>3</title>\r\n",
       "<path fill=\"#e58139\" fill-opacity=\"0.937255\" stroke=\"black\" d=\"M216,-68C216,-68 135,-68 135,-68 129,-68 123,-62 123,-56 123,-56 123,-12 123,-12 123,-6 129,-0 135,-0 135,-0 216,-0 216,-0 222,-0 228,-6 228,-12 228,-12 228,-56 228,-56 228,-62 222,-68 216,-68\"/>\r\n",
       "<text text-anchor=\"start\" x=\"134\" y=\"-52.8\" font-family=\"Helvetica,sans-Serif\" font-size=\"14.00\">gini = 0.1132</text>\r\n",
       "<text text-anchor=\"start\" x=\"132\" y=\"-37.8\" font-family=\"Helvetica,sans-Serif\" font-size=\"14.00\">samples = 83</text>\r\n",
       "<text text-anchor=\"start\" x=\"131\" y=\"-22.8\" font-family=\"Helvetica,sans-Serif\" font-size=\"14.00\">value = [78, 5]</text>\r\n",
       "<text text-anchor=\"start\" x=\"146.5\" y=\"-7.8\" font-family=\"Helvetica,sans-Serif\" font-size=\"14.00\">class = 0</text>\r\n",
       "</g>\r\n",
       "<!-- 1&#45;&gt;3 -->\r\n",
       "<g id=\"edge3\" class=\"edge\"><title>1&#45;&gt;3</title>\r\n",
       "<path fill=\"none\" stroke=\"black\" d=\"M174.855,-103.975C174.933,-95.6898 175.015,-86.8634 175.095,-78.3884\"/>\r\n",
       "<polygon fill=\"black\" stroke=\"black\" points=\"178.595,-78.3172 175.189,-68.2849 171.596,-78.2518 178.595,-78.3172\"/>\r\n",
       "</g>\r\n",
       "<!-- 5 -->\r\n",
       "<g id=\"node6\" class=\"node\"><title>5</title>\r\n",
       "<path fill=\"#399de5\" stroke=\"black\" d=\"M341,-68C341,-68 260,-68 260,-68 254,-68 248,-62 248,-56 248,-56 248,-12 248,-12 248,-6 254,-0 260,-0 260,-0 341,-0 341,-0 347,-0 353,-6 353,-12 353,-12 353,-56 353,-56 353,-62 347,-68 341,-68\"/>\r\n",
       "<text text-anchor=\"start\" x=\"271.5\" y=\"-52.8\" font-family=\"Helvetica,sans-Serif\" font-size=\"14.00\">gini = 0.0</text>\r\n",
       "<text text-anchor=\"start\" x=\"257\" y=\"-37.8\" font-family=\"Helvetica,sans-Serif\" font-size=\"14.00\">samples = 54</text>\r\n",
       "<text text-anchor=\"start\" x=\"256\" y=\"-22.8\" font-family=\"Helvetica,sans-Serif\" font-size=\"14.00\">value = [0, 54]</text>\r\n",
       "<text text-anchor=\"start\" x=\"271.5\" y=\"-7.8\" font-family=\"Helvetica,sans-Serif\" font-size=\"14.00\">class = 1</text>\r\n",
       "</g>\r\n",
       "<!-- 4&#45;&gt;5 -->\r\n",
       "<g id=\"edge5\" class=\"edge\"><title>4&#45;&gt;5</title>\r\n",
       "<path fill=\"none\" stroke=\"black\" d=\"M301.145,-103.975C301.067,-95.6898 300.985,-86.8634 300.905,-78.3884\"/>\r\n",
       "<polygon fill=\"black\" stroke=\"black\" points=\"304.404,-78.2518 300.811,-68.2849 297.405,-78.3172 304.404,-78.2518\"/>\r\n",
       "</g>\r\n",
       "<!-- 6 -->\r\n",
       "<g id=\"node7\" class=\"node\"><title>6</title>\r\n",
       "<path fill=\"#399de5\" fill-opacity=\"0.400000\" stroke=\"black\" d=\"M464,-68C464,-68 383,-68 383,-68 377,-68 371,-62 371,-56 371,-56 371,-12 371,-12 371,-6 377,-0 383,-0 383,-0 464,-0 464,-0 470,-0 476,-6 476,-12 476,-12 476,-56 476,-56 476,-62 470,-68 464,-68\"/>\r\n",
       "<text text-anchor=\"start\" x=\"382\" y=\"-52.8\" font-family=\"Helvetica,sans-Serif\" font-size=\"14.00\">gini = 0.4688</text>\r\n",
       "<text text-anchor=\"start\" x=\"380\" y=\"-37.8\" font-family=\"Helvetica,sans-Serif\" font-size=\"14.00\">samples = 16</text>\r\n",
       "<text text-anchor=\"start\" x=\"379\" y=\"-22.8\" font-family=\"Helvetica,sans-Serif\" font-size=\"14.00\">value = [6, 10]</text>\r\n",
       "<text text-anchor=\"start\" x=\"394.5\" y=\"-7.8\" font-family=\"Helvetica,sans-Serif\" font-size=\"14.00\">class = 1</text>\r\n",
       "</g>\r\n",
       "<!-- 4&#45;&gt;6 -->\r\n",
       "<g id=\"edge6\" class=\"edge\"><title>4&#45;&gt;6</title>\r\n",
       "<path fill=\"none\" stroke=\"black\" d=\"M344.856,-103.975C355.548,-94.5973 367.031,-84.5262 377.829,-75.056\"/>\r\n",
       "<polygon fill=\"black\" stroke=\"black\" points=\"380.339,-77.5101 385.549,-68.2849 375.723,-72.2474 380.339,-77.5101\"/>\r\n",
       "</g>\r\n",
       "</g>\r\n",
       "</svg>\r\n"
      ],
      "text/plain": [
       "<graphviz.files.Source at 0x24b2ea1a0f0>"
      ]
     },
     "execution_count": 33,
     "metadata": {},
     "output_type": "execute_result"
    }
   ],
   "source": [
    "import graphviz\n",
    "from sklearn import tree\n",
    "clf = tree.DecisionTreeClassifier(max_depth=2)\n",
    "clf = clf.fit(data[:,[1,2]], data[:,3])\n",
    "dot_data = tree.export_graphviz(clf, out_file=None,                        \n",
    "                         class_names=[\"0\",\"1\"],  \n",
    "                         filled=True, rounded=True,  \n",
    "                         special_characters=True)  \n",
    "graph = graphviz.Source(dot_data)  \n",
    "graph \n",
    "\n",
    "\n"
   ]
  },
  {
   "cell_type": "code",
   "execution_count": null,
   "metadata": {
    "collapsed": true
   },
   "outputs": [],
   "source": []
  },
  {
   "cell_type": "code",
   "execution_count": null,
   "metadata": {
    "collapsed": true
   },
   "outputs": [],
   "source": []
  },
  {
   "cell_type": "code",
   "execution_count": null,
   "metadata": {
    "collapsed": true
   },
   "outputs": [],
   "source": []
  },
  {
   "cell_type": "code",
   "execution_count": null,
   "metadata": {
    "collapsed": true
   },
   "outputs": [],
   "source": []
  },
  {
   "cell_type": "code",
   "execution_count": null,
   "metadata": {
    "collapsed": true
   },
   "outputs": [],
   "source": []
  },
  {
   "cell_type": "code",
   "execution_count": null,
   "metadata": {
    "collapsed": true
   },
   "outputs": [],
   "source": []
  },
  {
   "cell_type": "code",
   "execution_count": 31,
   "metadata": {
    "collapsed": true
   },
   "outputs": [],
   "source": [
    "def decisionTreeBoundary(data,n_classes=2,plot_colors = \"yb\",plot_step = 0.02):\n",
    "    #特征的列index\n",
    "    pairidx,pair = [1,2],[1,2]\n",
    "    X = data[:,[1,2]]\n",
    "    y = data[:,3]\n",
    "    # Train\n",
    "    #构造的无参数构造函数\n",
    "    clf = tree.DecisionTreeClassifier(max_depth=2)\n",
    "    clf.fit(X, y)\n",
    "    # 绘制决策边界\n",
    "    x_min, x_max = X[:, 0].min(), X[:, 0].max()\n",
    "    y_min, y_max = X[:, 1].min(), X[:, 1].max()\n",
    "    xx, yy = np.meshgrid(np.arange(x_min, x_max, plot_step),\n",
    "                         np.arange(y_min, y_max, plot_step))\n",
    "\n",
    "    Z = clf.predict(np.c_[xx.ravel(), yy.ravel()])\n",
    "    Z = Z.reshape(xx.shape)\n",
    "    cs = plt.contourf(xx, yy, Z, cmap=plt.cm.BrBG)\n",
    "    # 绘制训练点\n",
    "    for i, color in zip(range(n_classes), plot_colors):\n",
    "        idx = np.where(y == i)\n",
    "        clabel=np.array(i,dtype=np.str)\n",
    "        plt.scatter(X[idx, 0], X[idx, 1], c=color,label = clabel,\n",
    "                   cmap=plt.cm.RdYlBu, edgecolor='black', s=15)\n",
    "\n",
    "    plt.legend(loc='lower right', borderpad=0, handletextpad=0)\n",
    "    plt.axis(\"tight\")\n",
    "    plt.xlabel(\"w1\")\n",
    "    plt.ylabel(\"w2\")\n",
    "    plt.title(\"using decision tree to binary classification\")\n",
    "    plt.show()"
   ]
  },
  {
   "cell_type": "code",
   "execution_count": null,
   "metadata": {
    "collapsed": true
   },
   "outputs": [],
   "source": []
  },
  {
   "cell_type": "code",
   "execution_count": null,
   "metadata": {
    "collapsed": true
   },
   "outputs": [],
   "source": []
  },
  {
   "cell_type": "code",
   "execution_count": null,
   "metadata": {
    "collapsed": true
   },
   "outputs": [],
   "source": []
  },
  {
   "cell_type": "code",
   "execution_count": null,
   "metadata": {
    "collapsed": true
   },
   "outputs": [],
   "source": []
  },
  {
   "cell_type": "code",
   "execution_count": 32,
   "metadata": {},
   "outputs": [
    {
     "data": {
      "image/png": "[encoded data removed]",
      "text/plain": [
       "<matplotlib.figure.Figure at 0x24b2f516240>"
      ]
     },
     "metadata": {},
     "output_type": "display_data"
    }
   ],
   "source": [
    "decisionTreeBoundary(data)"
   ]
  },
  {
   "cell_type": "code",
   "execution_count": null,
   "metadata": {
    "collapsed": true
   },
   "outputs": [],
   "source": []
  },
  {
   "cell_type": "code",
   "execution_count": null,
   "metadata": {
    "collapsed": true
   },
   "outputs": [],
   "source": []
  },
  {
   "cell_type": "code",
   "execution_count": null,
   "metadata": {
    "collapsed": true
   },
   "outputs": [],
   "source": []
  },
  {
   "cell_type": "code",
   "execution_count": null,
   "metadata": {
    "collapsed": true
   },
   "outputs": [],
   "source": []
  },
  {
   "cell_type": "code",
   "execution_count": null,
   "metadata": {
    "collapsed": true
   },
   "outputs": [],
   "source": []
  },
  {
   "cell_type": "code",
   "execution_count": null,
   "metadata": {
    "collapsed": true
   },
   "outputs": [],
   "source": []
  },
  {
   "cell_type": "code",
   "execution_count": null,
   "metadata": {
    "collapsed": true
   },
   "outputs": [],
   "source": []
  },
  {
   "cell_type": "code",
   "execution_count": null,
   "metadata": {
    "collapsed": true
   },
   "outputs": [],
   "source": []
  },
  {
   "cell_type": "code",
   "execution_count": null,
   "metadata": {
    "collapsed": true
   },
   "outputs": [],
   "source": []
  },
  {
   "cell_type": "code",
   "execution_count": null,
   "metadata": {
    "collapsed": true
   },
   "outputs": [],
   "source": []
  },
  {
   "cell_type": "code",
   "execution_count": null,
   "metadata": {
    "collapsed": true
   },
   "outputs": [],
   "source": []
  },
  {
   "cell_type": "code",
   "execution_count": null,
   "metadata": {
    "collapsed": true
   },
   "outputs": [],
   "source": []
  },
  {
   "cell_type": "code",
   "execution_count": null,
   "metadata": {
    "collapsed": true
   },
   "outputs": [],
   "source": []
  },
  {
   "cell_type": "code",
   "execution_count": null,
   "metadata": {
    "collapsed": true
   },
   "outputs": [],
   "source": []
  },
  {
   "cell_type": "code",
   "execution_count": null,
   "metadata": {
    "collapsed": true
   },
   "outputs": [],
   "source": []
  },
  {
   "cell_type": "code",
   "execution_count": null,
   "metadata": {
    "collapsed": true
   },
   "outputs": [],
   "source": []
  }
 ],
 "metadata": {
  "kernelspec": {
   "display_name": "Python 3",
   "language": "python",
   "name": "python3"
  },
  "language_info": {
   "codemirror_mode": {
    "name": "ipython",
    "version": 3
   },
   "file_extension": ".py",
   "mimetype": "text/x-python",
   "name": "python",
   "nbconvert_exporter": "python",
   "pygments_lexer": "ipython3",
   "version": "3.6.1"
  }
 },
 "nbformat": 4,
 "nbformat_minor": 2
}
