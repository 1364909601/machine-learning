{
 "cells": [
  {
   "cell_type": "code",
   "execution_count": 9,
   "metadata": {
    "collapsed": true
   },
   "outputs": [],
   "source": [
    "import numpy as np\n",
    "import tensorflow as tf\n",
    "import matplotlib.pyplot as plt"
   ]
  },
  {
   "cell_type": "code",
   "execution_count": 12,
   "metadata": {
    "collapsed": true
   },
   "outputs": [],
   "source": [
    "num_points = 100\n",
    "vectors_set = []\n",
    "for i in range(num_points):\n",
    "    x1 = np.random.normal(0.,0.55)\n",
    "    y1 = x1 * 0.1 + 0.3 + np.random.normal(0.0,0.03)\n",
    "    vectors_set.append([x1,y1])"
   ]
  },
  {
   "cell_type": "code",
   "execution_count": 15,
   "metadata": {},
   "outputs": [
    {
     "data": {
      "image/png": "[encoded data removed]",
      "text/plain": [
       "<matplotlib.figure.Figure at 0x146180ea2b0>"
      ]
     },
     "metadata": {},
     "output_type": "display_data"
    }
   ],
   "source": [
    "x_data = [v[0] for v in vectors_set]\n",
    "y_data = [v[1] for v in vectors_set]\n",
    "\n",
    "plt.scatter(x_data,y_data,c='b')\n",
    "plt.show()"
   ]
  },
  {
   "cell_type": "code",
   "execution_count": null,
   "metadata": {
    "collapsed": true
   },
   "outputs": [],
   "source": []
  },
  {
   "cell_type": "code",
   "execution_count": null,
   "metadata": {
    "collapsed": true
   },
   "outputs": [],
   "source": [
    "#by tensorflow to study"
   ]
  },
  {
   "cell_type": "code",
   "execution_count": 17,
   "metadata": {
    "collapsed": true
   },
   "outputs": [],
   "source": [
    "w = tf.Variable(tf.random_uniform([1],-1.,1.),name='w')\n",
    "b = tf.Variable(tf.zeros([1]),name='b')\n",
    "#经过计算得出预估值\n",
    "y = w * x_data + b\n",
    "#以预估值y和实际值y_data之间的均方差作为损失\n",
    "loss = tf.reduce_mean(tf.square(y-y_data),name='loss')\n",
    "#采用梯度下降法来优化参数\n",
    "optimizer = tf.train.GradientDescentOptimizer(0.5)\n",
    "train = optimizer.minimize(loss,name='train')"
   ]
  },
  {
   "cell_type": "code",
   "execution_count": 19,
   "metadata": {
    "collapsed": true
   },
   "outputs": [],
   "source": [
    "sess = tf.Session()\n",
    "init = tf.global_variables_initializer()\n",
    "sess.run(init)"
   ]
  },
  {
   "cell_type": "code",
   "execution_count": 23,
   "metadata": {},
   "outputs": [
    {
     "name": "stdout",
     "output_type": "stream",
     "text": [
      "w= [ 0.09928408] b= [ 0.30162808] 0.00096734\n",
      "w= [ 0.09928408] b= [ 0.30162808] 0.00096734\n",
      "w= [ 0.09928408] b= [ 0.30162808] 0.00096734\n",
      "w= [ 0.09928408] b= [ 0.30162808] 0.00096734\n",
      "w= [ 0.09928408] b= [ 0.30162808] 0.00096734\n",
      "w= [ 0.09928408] b= [ 0.30162808] 0.00096734\n",
      "w= [ 0.09928408] b= [ 0.30162808] 0.00096734\n",
      "w= [ 0.09928408] b= [ 0.30162808] 0.00096734\n",
      "w= [ 0.09928408] b= [ 0.30162808] 0.00096734\n",
      "w= [ 0.09928408] b= [ 0.30162808] 0.00096734\n",
      "w= [ 0.09928408] b= [ 0.30162808] 0.00096734\n",
      "w= [ 0.09928408] b= [ 0.30162808] 0.00096734\n",
      "w= [ 0.09928408] b= [ 0.30162808] 0.00096734\n",
      "w= [ 0.09928408] b= [ 0.30162808] 0.00096734\n",
      "w= [ 0.09928408] b= [ 0.30162808] 0.00096734\n",
      "w= [ 0.09928408] b= [ 0.30162808] 0.00096734\n",
      "w= [ 0.09928408] b= [ 0.30162808] 0.00096734\n",
      "w= [ 0.09928408] b= [ 0.30162808] 0.00096734\n",
      "w= [ 0.09928408] b= [ 0.30162808] 0.00096734\n",
      "w= [ 0.09928408] b= [ 0.30162808] 0.00096734\n",
      "w= [ 0.09928408] b= [ 0.30162808] 0.00096734\n"
     ]
    }
   ],
   "source": [
    "print(\"w=\", sess.run(w),\"b=\",sess.run(b),sess.run(loss))\n",
    "for step in range(20):\n",
    "    sess.run(train)\n",
    "    print(\"w=\", sess.run(w),\"b=\",sess.run(b),sess.run(loss))\n",
    "writer = tf.summary.FileWriter(\"./tmp\",sess.graph)\n"
   ]
  },
  {
   "cell_type": "code",
   "execution_count": 25,
   "metadata": {},
   "outputs": [
    {
     "data": {
      "image/png": "[encoded data removed]",
      "text/plain": [
       "<matplotlib.figure.Figure at 0x14619702e80>"
      ]
     },
     "metadata": {},
     "output_type": "display_data"
    }
   ],
   "source": [
    "plt.scatter(x_data,y_data,c='r')\n",
    "plt.plot(x_data,sess.run(w)*x_data+sess.run(b))\n",
    "plt.show()"
   ]
  },
  {
   "cell_type": "code",
   "execution_count": null,
   "metadata": {
    "collapsed": true
   },
   "outputs": [],
   "source": []
  },
  {
   "cell_type": "code",
   "execution_count": null,
   "metadata": {
    "collapsed": true
   },
   "outputs": [],
   "source": []
  },
  {
   "cell_type": "code",
   "execution_count": null,
   "metadata": {
    "collapsed": true
   },
   "outputs": [],
   "source": []
  },
  {
   "cell_type": "code",
   "execution_count": null,
   "metadata": {
    "collapsed": true
   },
   "outputs": [],
   "source": []
  },
  {
   "cell_type": "code",
   "execution_count": null,
   "metadata": {
    "collapsed": true
   },
   "outputs": [],
   "source": []
  },
  {
   "cell_type": "code",
   "execution_count": null,
   "metadata": {
    "collapsed": true
   },
   "outputs": [],
   "source": []
  },
  {
   "cell_type": "code",
   "execution_count": null,
   "metadata": {
    "collapsed": true
   },
   "outputs": [],
   "source": []
  },
  {
   "cell_type": "code",
   "execution_count": null,
   "metadata": {
    "collapsed": true
   },
   "outputs": [],
   "source": []
  }
 ],
 "metadata": {
  "kernelspec": {
   "display_name": "Python 3",
   "language": "python",
   "name": "python3"
  },
  "language_info": {
   "codemirror_mode": {
    "name": "ipython",
    "version": 3
   },
   "file_extension": ".py",
   "mimetype": "text/x-python",
   "name": "python",
   "nbconvert_exporter": "python",
   "pygments_lexer": "ipython3",
   "version": "3.6.1"
  }
 },
 "nbformat": 4,
 "nbformat_minor": 2
}
