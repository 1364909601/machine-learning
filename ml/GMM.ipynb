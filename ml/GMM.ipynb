{
 "cells": [
  {
   "cell_type": "code",
   "execution_count": 31,
   "metadata": {},
   "outputs": [
    {
     "data": {
      "image/png": "[encoded data removed]",
      "text/plain": [
       "<matplotlib.figure.Figure at 0x136ef735470>"
      ]
     },
     "metadata": {},
     "output_type": "display_data"
    }
   ],
   "source": [
    "import numpy as np\n",
    "import numpy.linalg as la\n",
    "import matplotlib.pyplot as plt\n",
    "from sklearn.datasets import make_blobs  \n",
    "\n",
    "#生成的簇，和对应的分类\n",
    "#这是sklearn的聚类结果\n",
    "#下面自己编码GMM实现聚类，看看与sklearn的结果是够一致\n",
    "x,label = make_blobs(n_samples=100,n_features=2, centers=2,\n",
    "                     cluster_std=[0.01, 0.03],\n",
    "                     center_box=(0.1, 0.8),\n",
    "                     random_state=2)  \n",
    "plt.scatter(x[:, 0],x[:, 1], marker='o', c=label) \n",
    "plt.title('GMM classification')\n",
    "plt.xlabel('x1 attribute')\n",
    "plt.ylabel('x2 attribute')\n",
    "plt.show()"
   ]
  },
  {
   "cell_type": "code",
   "execution_count": null,
   "metadata": {
    "collapsed": true
   },
   "outputs": [],
   "source": []
  },
  {
   "cell_type": "code",
   "execution_count": null,
   "metadata": {
    "collapsed": true
   },
   "outputs": [],
   "source": []
  },
  {
   "cell_type": "code",
   "execution_count": 32,
   "metadata": {
    "collapsed": true
   },
   "outputs": [],
   "source": [
    "# K: 簇的个数\n",
    "# D: 数据的维数（特征数或属性数）\n",
    "# N：样本点个数\n",
    "K = 2\n",
    "D = 2\n",
    "N = 100\n",
    "\n",
    "\n",
    "#初始化参数\n",
    "def initParams(K,D):\n",
    "    #每个簇的中心值：K by D\n",
    "    aves = np.random.rand(K,D)\n",
    "    #每个簇的偏差 D by D by K\n",
    "    sigmas = np.zeros((D,D,K))\n",
    "    ###D by D 必须是对称矩阵\n",
    "    sig = np.eye(D)\n",
    "    for k in np.arange(0,K):\n",
    "        sigmas[:,:,k] = sig\n",
    "    #每个簇的影响系数：1 by K\n",
    "    pPis = np.random.rand(1,K)\n",
    "    return aves,sigmas,pPis\n",
    " \n",
    " #样本点对簇的贡献系数\n",
    "    #pPi : 1 by K\n",
    "    #px: N by K\n",
    "    # return value: N by K\n",
    "def fgamma(px,pPi):\n",
    "    #gamma公式的分子部分\n",
    "    #fenzi: N by K\n",
    "    fenzi = pPi * px \n",
    "    #gamma公式的分母部分\n",
    "    #fenmu: N by 1\n",
    "    fenmu = np.sum(fenzi,axis=1).reshape(N,1)\n",
    "    return fenzi/fenmu\n",
    "\n",
    "# 每个簇中的样本点的贡献系数之和\n",
    "    # gam: N by K\n",
    "    # return value: 1 by K\n",
    "\n",
    "def fNk(gam):\n",
    "    nk = np.sum(gam,axis=0)\n",
    "    # 1-d to 2-d\n",
    "    return nk.reshape(1,K)\n",
    "\n",
    "#每个簇的均值\n",
    "    # Nk: 1 by K\n",
    "    # gam: N by K\n",
    "    # x : N by D\n",
    "    #return value: K by D\n",
    "def faverage(aves,Nk,gam,x):\n",
    "    #print(np.shape(Nk))\n",
    "    for k in np.arange(0,K):\n",
    "        # sum : D\n",
    "        sumn = np.sum((gam[:,k].reshape(N,1)) * x,axis=0)\n",
    "        aves[k,:] = sumn.reshape(1,D)/Nk[:,k]\n",
    "\n",
    "#每个簇的方差\n",
    "    # Nk: 1 by K\n",
    "    # gam: N by K\n",
    "    # x : N by D\n",
    "    # aves: K by D\n",
    "    #return value: D by D by K\n",
    "\n",
    "def fsigma(sigmas,Nk,gam,x,aves):\n",
    "    for k in np.arange(0,K):\n",
    "        #shift: N by D\n",
    "        shift = x - aves[k,:]\n",
    "        #shift_gam: N by D        \n",
    "        shift_gam = gam[:,k].reshape(N,1)*shift\n",
    "        #shift2 : D by D\n",
    "        shift2 = shift_gam.T.dot(shift)\n",
    "        sigmas[:,:,k] = shift2/Nk[:,k]\n",
    "        #print(sigmas[:,:,k])\n",
    "    return sigmas\n",
    "\n",
    "# D-dimension prob density\n",
    "# x ： N by D\n",
    "# aves : K by D\n",
    "# sigmas: D by D by K\n",
    "    # return value: N by K\n",
    "def fpx(x,aves,sigmas):\n",
    "    Px = np.zeros((N,K))\n",
    "    # coef1 : 1 by 1\n",
    "    coef1 = np.power((2*np.pi),(D/2.0))\n",
    "    for k in np.arange(0,K):\n",
    "        # coef2 : 1 by 1\n",
    "        coef2 = np.power((la.det(sigmas[:,:,k])),0.5)\n",
    "        coef3 = 1/(coef1 * coef2)\n",
    "        # shift: N by D\n",
    "        shift = x - aves[k,:]\n",
    "        # sigmaInv: D by D\n",
    "        #print(sigmas[:,:,k])\n",
    "        sigmaInv = la.inv(sigmas[:,:,k])\n",
    "        epow = -0.5*(shift.dot(sigmaInv)*shift)\n",
    "        # epowsum : N\n",
    "        epowsum = np.sum(epow,axis=1)        \n",
    "        Px[:,k] = coef3 * np.exp(epowsum)\n",
    "\n",
    "    return Px\n",
    "\n",
    "#迭代求解的停止策略\n",
    "    #px: N by K\n",
    "    #pPi: 1 by K\n",
    "    \n",
    "#Loss function  1 by 1  \n",
    "def fL(px, pPi):\n",
    "    # sub: N by 1\n",
    "    sub = np.sum(pPi*px,axis=1)\n",
    "    logsub = np.log(sub)\n",
    "    curL = np.sum(logsub)\n",
    "    #print(curL)\n",
    "    # curL: 1 by 1\n",
    "    return curL\n",
    "    \n",
    "# stop iterator strategy\n",
    "def stop_iter(threshold,preL,curL):\n",
    "    return np.abs(curL-preL) < threshold\n",
    "\n",
    "# GMM \n",
    "# return value: N by K\n",
    "def GMM(x,K):\n",
    "    #loss value initilize\n",
    "    preL = -np.inf;\n",
    "    # aves 每个簇的中心值：K by D\n",
    "    # sigmas 每个簇的偏差 D by D by K\n",
    "    # pPi 每个簇的影响系数：1 by K\n",
    "    aves,sigmas,pPi = initParams(K,D)\n",
    "    while True:\n",
    "        # px: 每个数据所属簇的概率 N by K\n",
    "        #print(aves)\n",
    "        #print(sigmas)\n",
    "        px = fpx(x,aves,sigmas)\n",
    "        #print(px)\n",
    "        # 贡献系数 N by K\n",
    "        gam = fgamma(px,pPi)\n",
    "        #每个簇中的样本点的贡献系数之和 1 by K\n",
    "        Nk = fNk(gam)\n",
    "        pPi = Nk/N\n",
    "        #print(pPi)\n",
    "        # 每个簇的均值 K by D\n",
    "        faverage(aves,Nk,gam,x)\n",
    "        #每个簇的方差 D by D by K\n",
    "        fsigma(sigmas,Nk,gam,x,aves)\n",
    "        # loss function\n",
    "        #print(px)\n",
    "        #print(pPi)\n",
    "        curL = fL(px, pPi)\n",
    "        #迭代求解的停止策略\n",
    "        if stop_iter(1e-15,preL, curL):\n",
    "            break\n",
    "        #print(sigmas[:,:,0])\n",
    "        #print(px)\n",
    "        preL = curL\n",
    "        #print(curL)\n",
    "    return px,aves,sigmas\n",
    "\n",
    "#返回聚类的结果：N \n",
    "def classifior(px):\n",
    "    rslt = []\n",
    "    for row in px:\n",
    "        rslt.append(np.where(row==np.max(row)))\n",
    "    return np.array(rslt).reshape(-1)"
   ]
  },
  {
   "cell_type": "code",
   "execution_count": null,
   "metadata": {
    "collapsed": true
   },
   "outputs": [],
   "source": []
  },
  {
   "cell_type": "code",
   "execution_count": null,
   "metadata": {
    "collapsed": true
   },
   "outputs": [],
   "source": []
  },
  {
   "cell_type": "code",
   "execution_count": null,
   "metadata": {
    "collapsed": true
   },
   "outputs": [],
   "source": []
  },
  {
   "cell_type": "code",
   "execution_count": null,
   "metadata": {
    "collapsed": true
   },
   "outputs": [],
   "source": []
  },
  {
   "cell_type": "code",
   "execution_count": 33,
   "metadata": {},
   "outputs": [
    {
     "data": {
      "image/png": "[encoded data removed]",
      "text/plain": [
       "<matplotlib.figure.Figure at 0x136ef926908>"
      ]
     },
     "metadata": {},
     "output_type": "display_data"
    }
   ],
   "source": [
    "#一维特征的GMM聚类模拟\n",
    "px,aves,sigmas =GMM(x,2)\n",
    "mylabel = classifior(px)\n",
    "#可以看到与sklearn的模拟结果是一致的\n",
    "plt.scatter(x[:, 0],x[:, 1], marker='o', c=mylabel) \n",
    "plt.title('GMM classification')\n",
    "plt.xlabel('x1 attribute')\n",
    "plt.ylabel('x2 attribute')\n",
    "plt.show()"
   ]
  },
  {
   "cell_type": "code",
   "execution_count": null,
   "metadata": {
    "collapsed": true
   },
   "outputs": [],
   "source": []
  },
  {
   "cell_type": "code",
   "execution_count": 34,
   "metadata": {
    "collapsed": true
   },
   "outputs": [
    {
     "data": {
      "text/plain": [
       "array([[  3.10126812e+002,   5.16194629e-020],\n",
       "       [  6.20089342e+001,   7.03528509e-021],\n",
       "       [  1.02888688e+002,   1.12971403e-016],\n",
       "       [  8.58372494e-155,   9.07370504e+001],\n",
       "       [  6.28123785e-212,   1.21772328e+002],\n",
       "       [  5.69619792e+002,   6.03878122e-018],\n",
       "       [  5.69932241e+002,   1.47373184e-021],\n",
       "       [  3.31317013e-197,   4.00904847e+001],\n",
       "       [  1.13708791e+003,   6.27980772e-019],\n",
       "       [  1.80718617e+002,   6.85616069e-018],\n",
       "       [  7.50879900e-209,   1.28023691e+002],\n",
       "       [  3.12583070e-218,   9.13058080e+001],\n",
       "       [  1.27577784e+003,   6.29536002e-019],\n",
       "       [  1.69652682e-206,   1.27589458e+002],\n",
       "       [  4.17255319e+002,   4.56976159e-018],\n",
       "       [  1.36091077e-155,   5.42428990e+001],\n",
       "       [  1.11853312e+003,   5.10877997e-019],\n",
       "       [  9.12040082e-192,   7.28773091e+001],\n",
       "       [  3.43034591e+002,   5.33882267e-019],\n",
       "       [  9.02697586e+002,   9.48331549e-019],\n",
       "       [  6.02762174e+002,   6.30617379e-018],\n",
       "       [  1.18349477e-218,   8.50492263e+001],\n",
       "       [  2.08548817e-205,   1.31120740e+002],\n",
       "       [  9.61930469e+002,   1.31068317e-020],\n",
       "       [  2.74946821e+002,   1.53623634e-022],\n",
       "       [  1.23137324e+003,   2.22026351e-020],\n",
       "       [  1.03442915e-149,   8.64165526e+001],\n",
       "       [  1.15127399e+002,   1.63568074e-020],\n",
       "       [  4.08249946e+002,   5.59032538e-018],\n",
       "       [  3.21442257e-116,   1.46635941e+001],\n",
       "       [  5.38115074e-196,   1.12495164e+002],\n",
       "       [  9.78659256e-203,   4.70980265e+001],\n",
       "       [  2.99419363e-244,   6.05737034e+001],\n",
       "       [  8.14800378e+002,   1.70697245e-021],\n",
       "       [  4.77501230e+002,   3.60451654e-022],\n",
       "       [  7.11661909e+002,   1.51854714e-020],\n",
       "       [  1.32626211e+002,   4.03259041e-018],\n",
       "       [  3.28016234e-237,   1.50265532e+001],\n",
       "       [  8.61003755e+002,   3.00506589e-021],\n",
       "       [  1.01149296e-217,   1.09916865e+002],\n",
       "       [  1.85520214e-220,   1.07006003e+002],\n",
       "       [  6.67111781e+002,   1.64578038e-021],\n",
       "       [  5.96096822e+002,   4.88268841e-018],\n",
       "       [  3.24473555e-196,   1.41270995e+002],\n",
       "       [  2.45363585e-102,   5.46905918e+000],\n",
       "       [  1.57147356e+003,   4.55603902e-020],\n",
       "       [  2.22613269e-186,   8.14033398e+001],\n",
       "       [  1.54543086e-220,   1.07863697e+002],\n",
       "       [  6.77926368e+002,   8.67012168e-022],\n",
       "       [  2.05859141e-146,   6.08389277e+001],\n",
       "       [  1.55692344e+003,   4.07126812e-020],\n",
       "       [  4.14717100e-238,   4.71949882e+001],\n",
       "       [  5.39305721e-190,   1.08025410e+002],\n",
       "       [  1.79428270e-162,   1.16170405e+002],\n",
       "       [  1.37820601e+003,   4.15144992e-020],\n",
       "       [  5.02132959e-163,   7.70546273e+001],\n",
       "       [  4.94507910e+002,   4.50566319e-019],\n",
       "       [  2.02834884e-194,   1.23349934e+002],\n",
       "       [  8.39497594e+002,   5.63956186e-021],\n",
       "       [  1.59490092e-152,   7.97360783e+001],\n",
       "       [  2.12460249e-160,   1.11447581e+002],\n",
       "       [  2.84601927e-148,   1.00798176e+001],\n",
       "       [  1.50393183e+003,   1.50890394e-019],\n",
       "       [  1.59308779e-281,   4.97507974e+000],\n",
       "       [  3.19071842e-146,   2.13500699e+001],\n",
       "       [  1.25053982e+003,   4.12727486e-020],\n",
       "       [  1.52912455e+003,   3.27914232e-020],\n",
       "       [  2.60710199e-165,   1.22508204e+002],\n",
       "       [  3.18411472e-179,   1.35594060e+002],\n",
       "       [  6.44304561e+002,   3.46022506e-020],\n",
       "       [  2.69509022e-202,   5.55233152e+001],\n",
       "       [  4.05048832e-234,   5.46449210e+001],\n",
       "       [  9.79816612e-228,   9.24459783e+001],\n",
       "       [  1.69197305e-193,   1.04680752e+002],\n",
       "       [  1.36125488e+003,   2.21759029e-019],\n",
       "       [  1.52390334e-200,   5.80717727e+001],\n",
       "       [  2.59482553e+002,   1.19681711e-021],\n",
       "       [  1.31985214e+003,   5.05854706e-020],\n",
       "       [  1.57381149e+003,   6.39444422e-020],\n",
       "       [  5.53684021e-144,   6.97675517e+001],\n",
       "       [  4.77063919e+001,   4.97284502e-023],\n",
       "       [  1.50275313e+003,   1.83388063e-019],\n",
       "       [  1.07238471e-186,   7.07190777e+000],\n",
       "       [  7.92988493e-292,   3.85429872e+000],\n",
       "       [  1.50118206e+002,   1.11818112e-022],\n",
       "       [  2.19469378e-155,   7.10143828e+001],\n",
       "       [  3.26916098e-213,   1.12098430e+002],\n",
       "       [  1.06314342e+003,   1.11728913e-019],\n",
       "       [  3.62686422e-218,   6.28407625e+001],\n",
       "       [  8.71434869e+002,   2.68409368e-018],\n",
       "       [  1.55163401e-311,   6.21341408e-001],\n",
       "       [  2.70048241e+002,   1.80954054e-020],\n",
       "       [  1.90545876e+002,   5.66263922e-017],\n",
       "       [  9.15052954e-159,   5.79685173e+001],\n",
       "       [  9.98331655e+002,   1.23322153e-019],\n",
       "       [  1.51043266e+003,   2.46714965e-020],\n",
       "       [  1.11977026e-136,   5.43547857e+001],\n",
       "       [  5.81547384e+002,   5.21709990e-022],\n",
       "       [  1.37901857e+003,   3.74227528e-019],\n",
       "       [  1.19216281e-193,   1.38353545e+002]])"
      ]
     },
     "execution_count": 34,
     "metadata": {},
     "output_type": "execute_result"
    }
   ],
   "source": [
    "px"
   ]
  },
  {
   "cell_type": "code",
   "execution_count": null,
   "metadata": {
    "collapsed": true
   },
   "outputs": [],
   "source": []
  },
  {
   "cell_type": "code",
   "execution_count": 35,
   "metadata": {},
   "outputs": [
    {
     "data": {
      "text/plain": [
       "array([[ 0.4027345 ,  0.11889877],\n",
       "       [ 0.49076433,  0.40577647]])"
      ]
     },
     "execution_count": 35,
     "metadata": {},
     "output_type": "execute_result"
    }
   ],
   "source": [
    "aves"
   ]
  },
  {
   "cell_type": "code",
   "execution_count": null,
   "metadata": {
    "collapsed": true
   },
   "outputs": [],
   "source": []
  },
  {
   "cell_type": "code",
   "execution_count": 40,
   "metadata": {},
   "outputs": [
    {
     "data": {
      "text/plain": [
       "array([[  9.15986680e-05,  -8.01442383e-06],\n",
       "       [ -8.01442383e-06,   1.10096387e-04]])"
      ]
     },
     "execution_count": 40,
     "metadata": {},
     "output_type": "execute_result"
    }
   ],
   "source": [
    "sigmas[:,:,0]"
   ]
  },
  {
   "cell_type": "code",
   "execution_count": null,
   "metadata": {
    "collapsed": true
   },
   "outputs": [],
   "source": []
  },
  {
   "cell_type": "code",
   "execution_count": 41,
   "metadata": {},
   "outputs": [
    {
     "data": {
      "text/plain": [
       "array([[  1.33265922e-03,   4.65569067e-06],\n",
       "       [  4.65569067e-06,   8.89605528e-04]])"
      ]
     },
     "execution_count": 41,
     "metadata": {},
     "output_type": "execute_result"
    }
   ],
   "source": [
    "sigmas[:,:,1]"
   ]
  },
  {
   "cell_type": "code",
   "execution_count": null,
   "metadata": {
    "collapsed": true
   },
   "outputs": [],
   "source": []
  },
  {
   "cell_type": "code",
   "execution_count": null,
   "metadata": {
    "collapsed": true
   },
   "outputs": [],
   "source": []
  },
  {
   "cell_type": "code",
   "execution_count": null,
   "metadata": {
    "collapsed": true
   },
   "outputs": [],
   "source": []
  },
  {
   "cell_type": "code",
   "execution_count": null,
   "metadata": {
    "collapsed": true
   },
   "outputs": [],
   "source": []
  },
  {
   "cell_type": "code",
   "execution_count": null,
   "metadata": {
    "collapsed": true
   },
   "outputs": [],
   "source": []
  },
  {
   "cell_type": "code",
   "execution_count": null,
   "metadata": {
    "collapsed": true
   },
   "outputs": [],
   "source": []
  },
  {
   "cell_type": "code",
   "execution_count": null,
   "metadata": {
    "collapsed": true
   },
   "outputs": [],
   "source": []
  },
  {
   "cell_type": "code",
   "execution_count": null,
   "metadata": {
    "collapsed": true
   },
   "outputs": [],
   "source": []
  },
  {
   "cell_type": "code",
   "execution_count": 8,
   "metadata": {},
   "outputs": [
    {
     "data": {
      "text/plain": [
       "array([[ 1.,  0.,  0.],\n",
       "       [ 0.,  2.,  0.],\n",
       "       [ 0.,  0.,  3.]])"
      ]
     },
     "execution_count": 8,
     "metadata": {},
     "output_type": "execute_result"
    }
   ],
   "source": [
    "a = np.array([[1],[2],[3]])\n",
    "square = np.zeros((3,3))\n",
    "for i in np.arange(0,3):\n",
    "    square[i,i]=a[i]\n",
    "square"
   ]
  },
  {
   "cell_type": "code",
   "execution_count": 12,
   "metadata": {},
   "outputs": [
    {
     "data": {
      "text/plain": [
       "array([[1],\n",
       "       [2],\n",
       "       [3]])"
      ]
     },
     "execution_count": 12,
     "metadata": {},
     "output_type": "execute_result"
    }
   ],
   "source": [
    "a"
   ]
  },
  {
   "cell_type": "code",
   "execution_count": 13,
   "metadata": {
    "collapsed": true
   },
   "outputs": [],
   "source": [
    "b = np.array([[1,2],[3,4],[5,6]])"
   ]
  },
  {
   "cell_type": "code",
   "execution_count": 14,
   "metadata": {},
   "outputs": [
    {
     "data": {
      "text/plain": [
       "array([[1, 2],\n",
       "       [3, 4],\n",
       "       [5, 6]])"
      ]
     },
     "execution_count": 14,
     "metadata": {},
     "output_type": "execute_result"
    }
   ],
   "source": [
    "b"
   ]
  },
  {
   "cell_type": "code",
   "execution_count": 15,
   "metadata": {},
   "outputs": [
    {
     "data": {
      "text/plain": [
       "array([[ 1,  2],\n",
       "       [ 6,  8],\n",
       "       [15, 18]])"
      ]
     },
     "execution_count": 15,
     "metadata": {},
     "output_type": "execute_result"
    }
   ],
   "source": [
    "a*b"
   ]
  },
  {
   "cell_type": "code",
   "execution_count": 16,
   "metadata": {},
   "outputs": [
    {
     "data": {
      "text/plain": [
       "array([[  1.,   2.],\n",
       "       [  6.,   8.],\n",
       "       [ 15.,  18.]])"
      ]
     },
     "execution_count": 16,
     "metadata": {},
     "output_type": "execute_result"
    }
   ],
   "source": [
    "square.dot(b)"
   ]
  },
  {
   "cell_type": "code",
   "execution_count": null,
   "metadata": {
    "collapsed": true
   },
   "outputs": [],
   "source": []
  },
  {
   "cell_type": "code",
   "execution_count": null,
   "metadata": {
    "collapsed": true
   },
   "outputs": [],
   "source": []
  },
  {
   "cell_type": "code",
   "execution_count": null,
   "metadata": {
    "collapsed": true
   },
   "outputs": [],
   "source": []
  },
  {
   "cell_type": "code",
   "execution_count": null,
   "metadata": {
    "collapsed": true
   },
   "outputs": [],
   "source": []
  },
  {
   "cell_type": "code",
   "execution_count": null,
   "metadata": {
    "collapsed": true
   },
   "outputs": [],
   "source": []
  }
 ],
 "metadata": {
  "kernelspec": {
   "display_name": "Python 3",
   "language": "python",
   "name": "python3"
  },
  "language_info": {
   "codemirror_mode": {
    "name": "ipython",
    "version": 3
   },
   "file_extension": ".py",
   "mimetype": "text/x-python",
   "name": "python",
   "nbconvert_exporter": "python",
   "pygments_lexer": "ipython3",
   "version": "3.6.1"
  }
 },
 "nbformat": 4,
 "nbformat_minor": 2
}
