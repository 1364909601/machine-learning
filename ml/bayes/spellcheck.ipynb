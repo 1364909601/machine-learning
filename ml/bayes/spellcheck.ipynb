{
 "cells": [
  {
   "cell_type": "markdown",
   "metadata": {
    "collapsed": true
   },
   "source": [
    "# 1 通过训练得到先验概率P(c)"
   ]
  },
  {
   "cell_type": "code",
   "execution_count": 4,
   "metadata": {},
   "outputs": [],
   "source": [
    "# import re, collections\n",
    "def tolower(text):\n",
    "    return re.findall('[a-z]+',text.lower())\n",
    "\n",
    "def prior(cwords):\n",
    "    model = collections.defaultdict(lambda:1)\n",
    "    for f in cwords:\n",
    "        model[f]+=1\n",
    "    return model\n",
    "\n",
    "ipath = './bigword.txt'\n",
    "uipath = ipath.encode(\"utf8\")\n",
    "htxt = open(uipath,'r',errors ='ignore')\n",
    "cwords = tolower(htxt.read())\n",
    "#get P(c)\n",
    "nwords = prior(cwords) "
   ]
  },
  {
   "cell_type": "code",
   "execution_count": null,
   "metadata": {},
   "outputs": [],
   "source": []
  },
  {
   "cell_type": "markdown",
   "metadata": {
    "collapsed": true
   },
   "source": [
    "# 2 定义规则，用户想键入c的情况下敲成 x 的概率：P(x|c)"
   ]
  },
  {
   "cell_type": "code",
   "execution_count": 5,
   "metadata": {},
   "outputs": [],
   "source": [
    "alpha = 'abcdefghijklmnopqrstuvwxyz'\n",
    "def version1(word):\n",
    "    n = len(word)\n",
    "    add_a_char = [word[0:i] + c + word[i:] for i in range(n+1) for c in alpha]\n",
    "    delete_a_char = [word[0:i] + word[i+1:] for i in range(n)]\n",
    "    revise_a_char = [word[0:i] + c + word[i+1:] for i in range(n) for c in alpha]\n",
    "    swap_adjacent_two_chars = [word[0:i] + word[i+1]+ word[i]+ word[i+2:] for i in range(n-1)] \n",
    "    return set( add_a_char + delete_a_char +\n",
    "               revise_a_char +  swap_adjacent_two_chars)\n",
    "              \n",
    "def version2(word):\n",
    "    return set(e2 for e1 in version1(word) for e2 in version1(e1))"
   ]
  },
  {
   "cell_type": "code",
   "execution_count": null,
   "metadata": {},
   "outputs": [],
   "source": []
  },
  {
   "cell_type": "code",
   "execution_count": null,
   "metadata": {
    "collapsed": true
   },
   "outputs": [],
   "source": []
  },
  {
   "cell_type": "markdown",
   "metadata": {
    "collapsed": true
   },
   "source": [
    "# 3 朴素贝叶斯分类目标函数：枚举用户输入的某个单词关联的所有的单词中，选取概率最大的就是用户最想输入的单词"
   ]
  },
  {
   "cell_type": "code",
   "execution_count": 6,
   "metadata": {},
   "outputs": [],
   "source": [
    "def identify(words):\n",
    "    return set(w for w in words if w in nwords)\n",
    "\n",
    "def getMax(wanteds):\n",
    "    threewanteds=[]\n",
    "    maxword = max(wanteds,key=lambda w : nwords[w])\n",
    "    threewanteds.append('want to input: '+ maxword)\n",
    "    wanteds.remove(maxword)\n",
    "    if len(wanteds)>0:\n",
    "        maxword = max(wanteds,key=lambda w : nwords[w])\n",
    "        threewanteds.append(maxword)\n",
    "        wanteds.remove(maxword)\n",
    "        if len(wanteds)>0:\n",
    "            maxword = max(wanteds,key=lambda w : nwords[w])\n",
    "            threewanteds.append(maxword)   \n",
    "    return threewanteds\n",
    "\n",
    "def bayesClassifier(word):\n",
    "    #如果字典中有输入的单词，直接返回\n",
    "    if identify([word]):\n",
    "        return 'found: '+ word\n",
    "    #一步调整\n",
    "    wanteds = identify(version1(word)) \n",
    "    if len(wanteds)>0:\n",
    "        return getMax(wanteds)\n",
    "    #两步调整\n",
    "    wanteds = identify(version2(word))\n",
    "    if len(wanteds)>0:\n",
    "        return getMax(wanteds)\n",
    "    #不再修正，直接提示这个单词不在当前的词典中\n",
    "    else:    \n",
    "        return [word + ' not found in dictionary!' ]"
   ]
  },
  {
   "cell_type": "code",
   "execution_count": null,
   "metadata": {},
   "outputs": [],
   "source": []
  },
  {
   "cell_type": "markdown",
   "metadata": {
    "collapsed": true
   },
   "source": [
    "# 4 如用户输入了hella，纠正后发现3个最有可能的输入"
   ]
  },
  {
   "cell_type": "code",
   "execution_count": 7,
   "metadata": {},
   "outputs": [
    {
     "data": {
      "text/plain": [
       "['want to input: hello', 'hell', 'fella']"
      ]
     },
     "execution_count": 7,
     "metadata": {},
     "output_type": "execute_result"
    }
   ],
   "source": [
    "bayesClassifier('hella')"
   ]
  },
  {
   "cell_type": "code",
   "execution_count": null,
   "metadata": {
    "collapsed": true
   },
   "outputs": [],
   "source": [
    "#如用户输入了appropreate，纠正后：appropriate"
   ]
  },
  {
   "cell_type": "code",
   "execution_count": 149,
   "metadata": {},
   "outputs": [
    {
     "data": {
      "text/plain": [
       "['want to input: appropriate']"
      ]
     },
     "execution_count": 149,
     "metadata": {},
     "output_type": "execute_result"
    }
   ],
   "source": [
    "bayesClassifier('appropreate')"
   ]
  },
  {
   "cell_type": "code",
   "execution_count": null,
   "metadata": {
    "collapsed": true
   },
   "outputs": [],
   "source": [
    "#如用户输入了appropreate，纠正后：appropriate"
   ]
  },
  {
   "cell_type": "code",
   "execution_count": 150,
   "metadata": {},
   "outputs": [
    {
     "data": {
      "text/plain": [
       "['want to input: happiness']"
      ]
     },
     "execution_count": 150,
     "metadata": {},
     "output_type": "execute_result"
    }
   ],
   "source": [
    "bayesClassifier('happyness')"
   ]
  },
  {
   "cell_type": "code",
   "execution_count": 163,
   "metadata": {},
   "outputs": [
    {
     "data": {
      "text/plain": [
       "'found: happiness'"
      ]
     },
     "execution_count": 163,
     "metadata": {},
     "output_type": "execute_result"
    }
   ],
   "source": [
    "bayesClassifier('happiness')"
   ]
  },
  {
   "cell_type": "code",
   "execution_count": 169,
   "metadata": {},
   "outputs": [
    {
     "data": {
      "text/plain": [
       "['want to input: awesome']"
      ]
     },
     "execution_count": 169,
     "metadata": {},
     "output_type": "execute_result"
    }
   ],
   "source": [
    "bayesClassifier('owesomes')"
   ]
  },
  {
   "cell_type": "code",
   "execution_count": null,
   "metadata": {
    "collapsed": true
   },
   "outputs": [],
   "source": []
  },
  {
   "cell_type": "code",
   "execution_count": 164,
   "metadata": {},
   "outputs": [
    {
     "data": {
      "text/plain": [
       "['grduallyare not found in dictionary!']"
      ]
     },
     "execution_count": 164,
     "metadata": {},
     "output_type": "execute_result"
    }
   ],
   "source": [
    "bayesClassifier('grduallyare')"
   ]
  },
  {
   "cell_type": "code",
   "execution_count": null,
   "metadata": {
    "collapsed": true
   },
   "outputs": [],
   "source": []
  },
  {
   "cell_type": "code",
   "execution_count": 165,
   "metadata": {},
   "outputs": [
    {
     "data": {
      "text/plain": [
       "['want to input: grate', 'greet']"
      ]
     },
     "execution_count": 165,
     "metadata": {},
     "output_type": "execute_result"
    }
   ],
   "source": [
    "bayesClassifier('grete')"
   ]
  },
  {
   "cell_type": "code",
   "execution_count": null,
   "metadata": {
    "collapsed": true
   },
   "outputs": [],
   "source": []
  },
  {
   "cell_type": "code",
   "execution_count": 41,
   "metadata": {},
   "outputs": [
    {
     "data": {
      "text/plain": [
       "'wsx'"
      ]
     },
     "execution_count": 41,
     "metadata": {},
     "output_type": "execute_result"
    }
   ],
   "source": [
    "mydict={'qaz':10,'wsx':20}\n",
    "candidate = ['qaz','wsx']\n",
    "max(candidate,key=lambda w : mydict[w])"
   ]
  },
  {
   "cell_type": "code",
   "execution_count": null,
   "metadata": {
    "collapsed": true
   },
   "outputs": [],
   "source": []
  },
  {
   "cell_type": "code",
   "execution_count": 44,
   "metadata": {},
   "outputs": [
    {
     "data": {
      "text/plain": [
       "['pple', 'aple', 'aple', 'appe', 'appl']"
      ]
     },
     "execution_count": 44,
     "metadata": {},
     "output_type": "execute_result"
    }
   ],
   "source": [
    "#删除一个字符：单词中去掉一个字符后的新单词的所有组合\n",
    "word = 'apple'\n",
    "n = len(word)\n",
    "[word[0:i] + word[i+1:] for i in range(n)]"
   ]
  },
  {
   "cell_type": "code",
   "execution_count": null,
   "metadata": {
    "collapsed": true
   },
   "outputs": [],
   "source": []
  },
  {
   "cell_type": "code",
   "execution_count": 46,
   "metadata": {},
   "outputs": [
    {
     "data": {
      "text/plain": [
       "['paple', 'apple', 'aplpe', 'appel']"
      ]
     },
     "execution_count": 46,
     "metadata": {},
     "output_type": "execute_result"
    }
   ],
   "source": [
    "#交换：交换相邻的2个字符的所有可能组合\n",
    "word = 'apple'\n",
    "n = len(word)\n",
    "[word[0:i] + word[i+1]+ word[i]+ word[i+2:] for i in range(n-1)]"
   ]
  },
  {
   "cell_type": "code",
   "execution_count": null,
   "metadata": {
    "collapsed": true
   },
   "outputs": [],
   "source": []
  },
  {
   "cell_type": "code",
   "execution_count": 53,
   "metadata": {
    "collapsed": true
   },
   "outputs": [
    {
     "data": {
      "text/plain": [
       "['apple',\n",
       " 'bpple',\n",
       " 'cpple',\n",
       " 'dpple',\n",
       " 'epple',\n",
       " 'fpple',\n",
       " 'gpple',\n",
       " 'hpple',\n",
       " 'ipple',\n",
       " 'jpple',\n",
       " 'kpple',\n",
       " 'lpple',\n",
       " 'mpple',\n",
       " 'npple',\n",
       " 'opple',\n",
       " 'ppple',\n",
       " 'qpple',\n",
       " 'rpple',\n",
       " 'spple',\n",
       " 'tpple',\n",
       " 'upple',\n",
       " 'vpple',\n",
       " 'wpple',\n",
       " 'xpple',\n",
       " 'ypple',\n",
       " 'zpple',\n",
       " 'aaple',\n",
       " 'abple',\n",
       " 'acple',\n",
       " 'adple',\n",
       " 'aeple',\n",
       " 'afple',\n",
       " 'agple',\n",
       " 'ahple',\n",
       " 'aiple',\n",
       " 'ajple',\n",
       " 'akple',\n",
       " 'alple',\n",
       " 'ample',\n",
       " 'anple',\n",
       " 'aople',\n",
       " 'apple',\n",
       " 'aqple',\n",
       " 'arple',\n",
       " 'asple',\n",
       " 'atple',\n",
       " 'auple',\n",
       " 'avple',\n",
       " 'awple',\n",
       " 'axple',\n",
       " 'ayple',\n",
       " 'azple',\n",
       " 'apale',\n",
       " 'apble',\n",
       " 'apcle',\n",
       " 'apdle',\n",
       " 'apele',\n",
       " 'apfle',\n",
       " 'apgle',\n",
       " 'aphle',\n",
       " 'apile',\n",
       " 'apjle',\n",
       " 'apkle',\n",
       " 'aplle',\n",
       " 'apmle',\n",
       " 'apnle',\n",
       " 'apole',\n",
       " 'apple',\n",
       " 'apqle',\n",
       " 'aprle',\n",
       " 'apsle',\n",
       " 'aptle',\n",
       " 'apule',\n",
       " 'apvle',\n",
       " 'apwle',\n",
       " 'apxle',\n",
       " 'apyle',\n",
       " 'apzle',\n",
       " 'appae',\n",
       " 'appbe',\n",
       " 'appce',\n",
       " 'appde',\n",
       " 'appee',\n",
       " 'appfe',\n",
       " 'appge',\n",
       " 'apphe',\n",
       " 'appie',\n",
       " 'appje',\n",
       " 'appke',\n",
       " 'apple',\n",
       " 'appme',\n",
       " 'appne',\n",
       " 'appoe',\n",
       " 'apppe',\n",
       " 'appqe',\n",
       " 'appre',\n",
       " 'appse',\n",
       " 'appte',\n",
       " 'appue',\n",
       " 'appve',\n",
       " 'appwe',\n",
       " 'appxe',\n",
       " 'appye',\n",
       " 'appze',\n",
       " 'appla',\n",
       " 'applb',\n",
       " 'applc',\n",
       " 'appld',\n",
       " 'apple',\n",
       " 'applf',\n",
       " 'applg',\n",
       " 'applh',\n",
       " 'appli',\n",
       " 'applj',\n",
       " 'applk',\n",
       " 'appll',\n",
       " 'applm',\n",
       " 'appln',\n",
       " 'applo',\n",
       " 'applp',\n",
       " 'applq',\n",
       " 'applr',\n",
       " 'appls',\n",
       " 'applt',\n",
       " 'applu',\n",
       " 'applv',\n",
       " 'applw',\n",
       " 'applx',\n",
       " 'apply',\n",
       " 'applz']"
      ]
     },
     "execution_count": 53,
     "metadata": {},
     "output_type": "execute_result"
    }
   ],
   "source": [
    "#修改一个字符：原单词的一个字符依次被替换为26个小写的英文字符后，如果单词长度为5，\n",
    "#返回5*26个单词\n",
    "word = 'apple'\n",
    "n = len(word)\n",
    "[word[0:i] + c + word[i+1:] for i in range(n) for c in alphabet]"
   ]
  },
  {
   "cell_type": "code",
   "execution_count": null,
   "metadata": {
    "collapsed": true
   },
   "outputs": [],
   "source": []
  },
  {
   "cell_type": "code",
   "execution_count": 51,
   "metadata": {
    "collapsed": true
   },
   "outputs": [
    {
     "data": {
      "text/plain": [
       "['aapple',\n",
       " 'bapple',\n",
       " 'capple',\n",
       " 'dapple',\n",
       " 'eapple',\n",
       " 'fapple',\n",
       " 'gapple',\n",
       " 'happle',\n",
       " 'iapple',\n",
       " 'japple',\n",
       " 'kapple',\n",
       " 'lapple',\n",
       " 'mapple',\n",
       " 'napple',\n",
       " 'oapple',\n",
       " 'papple',\n",
       " 'qapple',\n",
       " 'rapple',\n",
       " 'sapple',\n",
       " 'tapple',\n",
       " 'uapple',\n",
       " 'vapple',\n",
       " 'wapple',\n",
       " 'xapple',\n",
       " 'yapple',\n",
       " 'zapple',\n",
       " 'aapple',\n",
       " 'abpple',\n",
       " 'acpple',\n",
       " 'adpple',\n",
       " 'aepple',\n",
       " 'afpple',\n",
       " 'agpple',\n",
       " 'ahpple',\n",
       " 'aipple',\n",
       " 'ajpple',\n",
       " 'akpple',\n",
       " 'alpple',\n",
       " 'ampple',\n",
       " 'anpple',\n",
       " 'aopple',\n",
       " 'appple',\n",
       " 'aqpple',\n",
       " 'arpple',\n",
       " 'aspple',\n",
       " 'atpple',\n",
       " 'aupple',\n",
       " 'avpple',\n",
       " 'awpple',\n",
       " 'axpple',\n",
       " 'aypple',\n",
       " 'azpple',\n",
       " 'apaple',\n",
       " 'apbple',\n",
       " 'apcple',\n",
       " 'apdple',\n",
       " 'apeple',\n",
       " 'apfple',\n",
       " 'apgple',\n",
       " 'aphple',\n",
       " 'apiple',\n",
       " 'apjple',\n",
       " 'apkple',\n",
       " 'aplple',\n",
       " 'apmple',\n",
       " 'apnple',\n",
       " 'apople',\n",
       " 'appple',\n",
       " 'apqple',\n",
       " 'aprple',\n",
       " 'apsple',\n",
       " 'aptple',\n",
       " 'apuple',\n",
       " 'apvple',\n",
       " 'apwple',\n",
       " 'apxple',\n",
       " 'apyple',\n",
       " 'apzple',\n",
       " 'appale',\n",
       " 'appble',\n",
       " 'appcle',\n",
       " 'appdle',\n",
       " 'appele',\n",
       " 'appfle',\n",
       " 'appgle',\n",
       " 'apphle',\n",
       " 'appile',\n",
       " 'appjle',\n",
       " 'appkle',\n",
       " 'applle',\n",
       " 'appmle',\n",
       " 'appnle',\n",
       " 'appole',\n",
       " 'appple',\n",
       " 'appqle',\n",
       " 'apprle',\n",
       " 'appsle',\n",
       " 'apptle',\n",
       " 'appule',\n",
       " 'appvle',\n",
       " 'appwle',\n",
       " 'appxle',\n",
       " 'appyle',\n",
       " 'appzle',\n",
       " 'applae',\n",
       " 'applbe',\n",
       " 'applce',\n",
       " 'applde',\n",
       " 'applee',\n",
       " 'applfe',\n",
       " 'applge',\n",
       " 'applhe',\n",
       " 'applie',\n",
       " 'applje',\n",
       " 'applke',\n",
       " 'applle',\n",
       " 'applme',\n",
       " 'applne',\n",
       " 'apploe',\n",
       " 'applpe',\n",
       " 'applqe',\n",
       " 'applre',\n",
       " 'applse',\n",
       " 'applte',\n",
       " 'applue',\n",
       " 'applve',\n",
       " 'applwe',\n",
       " 'applxe',\n",
       " 'applye',\n",
       " 'applze',\n",
       " 'applea',\n",
       " 'appleb',\n",
       " 'applec',\n",
       " 'appled',\n",
       " 'applee',\n",
       " 'applef',\n",
       " 'appleg',\n",
       " 'appleh',\n",
       " 'applei',\n",
       " 'applej',\n",
       " 'applek',\n",
       " 'applel',\n",
       " 'applem',\n",
       " 'applen',\n",
       " 'appleo',\n",
       " 'applep',\n",
       " 'appleq',\n",
       " 'appler',\n",
       " 'apples',\n",
       " 'applet',\n",
       " 'appleu',\n",
       " 'applev',\n",
       " 'applew',\n",
       " 'applex',\n",
       " 'appley',\n",
       " 'applez']"
      ]
     },
     "execution_count": 51,
     "metadata": {},
     "output_type": "execute_result"
    }
   ],
   "source": [
    "#增加1个字符：依次在原单词的一个位置依次插入26个英文单词，如果单词长度为5，\n",
    "#返回6*26个单词\n",
    "word = 'apple'\n",
    "n = len(word)\n",
    "[word[0:i] + c + word[i:] for i in range(n+1) for c in alphabet]"
   ]
  },
  {
   "cell_type": "code",
   "execution_count": null,
   "metadata": {
    "collapsed": true
   },
   "outputs": [],
   "source": []
  }
 ],
 "metadata": {
  "kernelspec": {
   "display_name": "Python 3",
   "language": "python",
   "name": "python3"
  },
  "language_info": {
   "codemirror_mode": {
    "name": "ipython",
    "version": 3
   },
   "file_extension": ".py",
   "mimetype": "text/x-python",
   "name": "python",
   "nbconvert_exporter": "python",
   "pygments_lexer": "ipython3",
   "version": "3.7.3"
  }
 },
 "nbformat": 4,
 "nbformat_minor": 2
}
