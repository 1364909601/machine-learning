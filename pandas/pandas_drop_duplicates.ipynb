{
 "cells": [
  {
   "cell_type": "code",
   "execution_count": 7,
   "metadata": {
    "collapsed": true
   },
   "outputs": [],
   "source": [
    "import pandas as pd\n",
    "import numpy as np"
   ]
  },
  {
   "cell_type": "code",
   "execution_count": 17,
   "metadata": {
    "scrolled": true
   },
   "outputs": [],
   "source": [
    "#读入csv文件\n",
    "file = r'C:\\all_gis.xlsx'\n",
    "#bj_gis = pd.read_excel('E:/gz-work/project/VRP/src/dis/raw_ord_data.xls',sheet='Sheet1')\n",
    "bj_gis = pd.read_excel(file)\n",
    "bj_gis.to_csv('C:/gis.csv')\n",
    "#剔除['lat','lng']重复的行\n",
    "bj_gis = bj_gis.drop_duplicates(subset=['lat','lng'], keep='last').reset_index(drop=True) #剔除重复的保留一个\n",
    "bj_gis.to_csv('C:/filter_gis.csv')"
   ]
  },
  {
   "cell_type": "code",
   "execution_count": null,
   "metadata": {
    "collapsed": true
   },
   "outputs": [],
   "source": []
  },
  {
   "cell_type": "code",
   "execution_count": null,
   "metadata": {
    "collapsed": true
   },
   "outputs": [],
   "source": []
  },
  {
   "cell_type": "code",
   "execution_count": null,
   "metadata": {
    "collapsed": true
   },
   "outputs": [],
   "source": []
  },
  {
   "cell_type": "code",
   "execution_count": null,
   "metadata": {
    "collapsed": true
   },
   "outputs": [],
   "source": []
  },
  {
   "cell_type": "code",
   "execution_count": null,
   "metadata": {
    "collapsed": true
   },
   "outputs": [],
   "source": []
  },
  {
   "cell_type": "code",
   "execution_count": null,
   "metadata": {
    "collapsed": true
   },
   "outputs": [],
   "source": []
  },
  {
   "cell_type": "code",
   "execution_count": 11,
   "metadata": {},
   "outputs": [
    {
     "data": {
      "text/plain": [
       "Index(['运输单号', '运单号', '订单号', '订单来源', '车队(站点)', '承运商类型', '承运商', '承运商车队', '发货商家',\n",
       "       '调度状态', '调度单号', '调度中心', '装载序号', '始发网点', '接货仓', '始发网点卡位', '目的省份', '目的城市',\n",
       "       '目的县区', '目的乡镇', '目的地址', '包裹个数', '体积', '重量', '温层', '预约提货时间', '配送开始时间',\n",
       "       '配送结束时间', '编号', 'lat', 'lng'],\n",
       "      dtype='object')"
      ]
     },
     "execution_count": 11,
     "metadata": {},
     "output_type": "execute_result"
    }
   ],
   "source": [
    "bj_gis.columns"
   ]
  },
  {
   "cell_type": "code",
   "execution_count": null,
   "metadata": {
    "collapsed": true
   },
   "outputs": [],
   "source": []
  },
  {
   "cell_type": "code",
   "execution_count": null,
   "metadata": {
    "collapsed": true
   },
   "outputs": [],
   "source": []
  },
  {
   "cell_type": "code",
   "execution_count": 21,
   "metadata": {},
   "outputs": [
    {
     "data": {
      "text/plain": [
       "Index(['运输单号', '运单号', '订单号', '订单来源', '车队(站点)', '承运商类型', '承运商', '承运商车队', '发货商家',\n",
       "       '调度状态', '调度单号', '调度中心', '装载序号', '始发网点', '接货仓', '始发网点卡位', '目的省份', '目的城市',\n",
       "       '目的县区', '目的乡镇', '目的地址', '包裹个数', '体积', '重量', '温层', '预约提货时间', '配送开始时间',\n",
       "       '配送结束时间', '编号', 'lat', 'lng'],\n",
       "      dtype='object')"
      ]
     },
     "execution_count": 21,
     "metadata": {},
     "output_type": "execute_result"
    }
   ],
   "source": [
    "bj_gis.columns"
   ]
  },
  {
   "cell_type": "code",
   "execution_count": null,
   "metadata": {
    "collapsed": true
   },
   "outputs": [],
   "source": []
  },
  {
   "cell_type": "code",
   "execution_count": null,
   "metadata": {
    "collapsed": true
   },
   "outputs": [],
   "source": []
  },
  {
   "cell_type": "code",
   "execution_count": 17,
   "metadata": {
    "collapsed": true
   },
   "outputs": [
    {
     "data": {
      "text/plain": [
       "运输单号              object\n",
       "运单号               object\n",
       "订单号               object\n",
       "订单来源              object\n",
       "车队(站点)            object\n",
       "承运商类型             object\n",
       "承运商               object\n",
       "承运商车队             object\n",
       "发货商家              object\n",
       "调度状态              object\n",
       "调度单号              object\n",
       "调度中心              object\n",
       "装载序号             float64\n",
       "始发网点              object\n",
       "接货仓               object\n",
       "始发网点卡位            object\n",
       "目的省份              object\n",
       "目的城市              object\n",
       "目的县区              object\n",
       "目的乡镇              object\n",
       "目的地址              object\n",
       "包裹个数             float64\n",
       "体积               float64\n",
       "重量               float64\n",
       "温层                object\n",
       "预约提货时间           float64\n",
       "配送开始时间            object\n",
       "配送结束时间    datetime64[ns]\n",
       "编号                 int64\n",
       "lat              float64\n",
       "long             float64\n",
       "dtype: object"
      ]
     },
     "execution_count": 17,
     "metadata": {},
     "output_type": "execute_result"
    }
   ],
   "source": [
    "bj_gis.dtypes"
   ]
  },
  {
   "cell_type": "code",
   "execution_count": null,
   "metadata": {
    "collapsed": true
   },
   "outputs": [],
   "source": []
  },
  {
   "cell_type": "code",
   "execution_count": 10,
   "metadata": {
    "collapsed": true
   },
   "outputs": [],
   "source": [
    "bj_gis.to_csv('E:/gz-work/project/VRP/raw_ord.csv')"
   ]
  },
  {
   "cell_type": "code",
   "execution_count": null,
   "metadata": {
    "collapsed": true
   },
   "outputs": [],
   "source": []
  },
  {
   "cell_type": "code",
   "execution_count": null,
   "metadata": {
    "collapsed": true
   },
   "outputs": [],
   "source": []
  },
  {
   "cell_type": "code",
   "execution_count": 10,
   "metadata": {},
   "outputs": [
    {
     "data": {
      "text/plain": [
       "111"
      ]
     },
     "execution_count": 10,
     "metadata": {},
     "output_type": "execute_result"
    }
   ],
   "source": [
    "len(bj_gis)"
   ]
  },
  {
   "cell_type": "code",
   "execution_count": null,
   "metadata": {
    "collapsed": true
   },
   "outputs": [],
   "source": []
  },
  {
   "cell_type": "code",
   "execution_count": 5,
   "metadata": {},
   "outputs": [
    {
     "data": {
      "text/html": [
       "<div>\n",
       "<style>\n",
       "    .dataframe thead tr:only-child th {\n",
       "        text-align: right;\n",
       "    }\n",
       "\n",
       "    .dataframe thead th {\n",
       "        text-align: left;\n",
       "    }\n",
       "\n",
       "    .dataframe tbody tr th {\n",
       "        vertical-align: top;\n",
       "    }\n",
       "</style>\n",
       "<table border=\"1\" class=\"dataframe\">\n",
       "  <thead>\n",
       "    <tr style=\"text-align: right;\">\n",
       "      <th></th>\n",
       "      <th>sale_ord_id</th>\n",
       "      <th>lat</th>\n",
       "      <th>lng</th>\n",
       "    </tr>\n",
       "  </thead>\n",
       "  <tbody>\n",
       "    <tr>\n",
       "      <th>0</th>\n",
       "      <td>72320866680</td>\n",
       "      <td>39.79273</td>\n",
       "      <td>116.51147</td>\n",
       "    </tr>\n",
       "    <tr>\n",
       "      <th>1</th>\n",
       "      <td>ESL4418309788779</td>\n",
       "      <td>39.96789</td>\n",
       "      <td>116.46168</td>\n",
       "    </tr>\n",
       "    <tr>\n",
       "      <th>2</th>\n",
       "      <td>ESL4418309787193</td>\n",
       "      <td>39.96789</td>\n",
       "      <td>116.46168</td>\n",
       "    </tr>\n",
       "    <tr>\n",
       "      <th>3</th>\n",
       "      <td>ESL4418309788775</td>\n",
       "      <td>39.96789</td>\n",
       "      <td>116.46168</td>\n",
       "    </tr>\n",
       "    <tr>\n",
       "      <th>4</th>\n",
       "      <td>ECO4418048903145</td>\n",
       "      <td>39.75687</td>\n",
       "      <td>116.36155</td>\n",
       "    </tr>\n",
       "    <tr>\n",
       "      <th>5</th>\n",
       "      <td>ECO4418048902823</td>\n",
       "      <td>39.82943</td>\n",
       "      <td>116.28314</td>\n",
       "    </tr>\n",
       "    <tr>\n",
       "      <th>6</th>\n",
       "      <td>73296377248</td>\n",
       "      <td>39.97701</td>\n",
       "      <td>116.33202</td>\n",
       "    </tr>\n",
       "    <tr>\n",
       "      <th>7</th>\n",
       "      <td>73294182145</td>\n",
       "      <td>39.93465</td>\n",
       "      <td>116.22406</td>\n",
       "    </tr>\n",
       "    <tr>\n",
       "      <th>8</th>\n",
       "      <td>73324051303</td>\n",
       "      <td>39.97467</td>\n",
       "      <td>116.35221</td>\n",
       "    </tr>\n",
       "    <tr>\n",
       "      <th>9</th>\n",
       "      <td>72265279219</td>\n",
       "      <td>39.97691</td>\n",
       "      <td>116.33202</td>\n",
       "    </tr>\n",
       "    <tr>\n",
       "      <th>10</th>\n",
       "      <td>73258742504</td>\n",
       "      <td>39.92715</td>\n",
       "      <td>116.33330</td>\n",
       "    </tr>\n",
       "  </tbody>\n",
       "</table>\n",
       "</div>"
      ],
      "text/plain": [
       "         sale_ord_id       lat        lng\n",
       "0        72320866680  39.79273  116.51147\n",
       "1   ESL4418309788779  39.96789  116.46168\n",
       "2   ESL4418309787193  39.96789  116.46168\n",
       "3   ESL4418309788775  39.96789  116.46168\n",
       "4   ECO4418048903145  39.75687  116.36155\n",
       "5   ECO4418048902823  39.82943  116.28314\n",
       "6        73296377248  39.97701  116.33202\n",
       "7        73294182145  39.93465  116.22406\n",
       "8        73324051303  39.97467  116.35221\n",
       "9        72265279219  39.97691  116.33202\n",
       "10       73258742504  39.92715  116.33330"
      ]
     },
     "execution_count": 5,
     "metadata": {},
     "output_type": "execute_result"
    }
   ],
   "source": [
    "#0~10行,包括端点\n",
    "bj_gis.loc[0:10,:]"
   ]
  },
  {
   "cell_type": "code",
   "execution_count": 11,
   "metadata": {
    "collapsed": true
   },
   "outputs": [],
   "source": [
    "#剔除['lat','lng']重复的行\n",
    "bj_gis = bj_gis.drop_duplicates(subset=['lat','lng'], keep='last').reset_index(drop=True) #剔除重复的保留一个"
   ]
  },
  {
   "cell_type": "code",
   "execution_count": null,
   "metadata": {
    "collapsed": true
   },
   "outputs": [],
   "source": []
  },
  {
   "cell_type": "code",
   "execution_count": null,
   "metadata": {
    "collapsed": true
   },
   "outputs": [],
   "source": []
  },
  {
   "cell_type": "code",
   "execution_count": 12,
   "metadata": {},
   "outputs": [
    {
     "data": {
      "text/plain": [
       "38"
      ]
     },
     "execution_count": 12,
     "metadata": {},
     "output_type": "execute_result"
    }
   ],
   "source": [
    "len(bj_gis)"
   ]
  },
  {
   "cell_type": "code",
   "execution_count": 13,
   "metadata": {
    "collapsed": true
   },
   "outputs": [
    {
     "data": {
      "text/html": [
       "<div>\n",
       "<style>\n",
       "    .dataframe thead tr:only-child th {\n",
       "        text-align: right;\n",
       "    }\n",
       "\n",
       "    .dataframe thead th {\n",
       "        text-align: left;\n",
       "    }\n",
       "\n",
       "    .dataframe tbody tr th {\n",
       "        vertical-align: top;\n",
       "    }\n",
       "</style>\n",
       "<table border=\"1\" class=\"dataframe\">\n",
       "  <thead>\n",
       "    <tr style=\"text-align: right;\">\n",
       "      <th></th>\n",
       "      <th>sale_ord_id</th>\n",
       "      <th>lat</th>\n",
       "      <th>lng</th>\n",
       "    </tr>\n",
       "  </thead>\n",
       "  <tbody>\n",
       "    <tr>\n",
       "      <th>0</th>\n",
       "      <td>ESL4418309788775</td>\n",
       "      <td>39.967890</td>\n",
       "      <td>116.461680</td>\n",
       "    </tr>\n",
       "    <tr>\n",
       "      <th>1</th>\n",
       "      <td>ECO4418048903145</td>\n",
       "      <td>39.756870</td>\n",
       "      <td>116.361550</td>\n",
       "    </tr>\n",
       "    <tr>\n",
       "      <th>2</th>\n",
       "      <td>ECO4418048902823</td>\n",
       "      <td>39.829430</td>\n",
       "      <td>116.283140</td>\n",
       "    </tr>\n",
       "    <tr>\n",
       "      <th>3</th>\n",
       "      <td>73294182145</td>\n",
       "      <td>39.934650</td>\n",
       "      <td>116.224060</td>\n",
       "    </tr>\n",
       "    <tr>\n",
       "      <th>4</th>\n",
       "      <td>72265279219</td>\n",
       "      <td>39.976910</td>\n",
       "      <td>116.332020</td>\n",
       "    </tr>\n",
       "    <tr>\n",
       "      <th>5</th>\n",
       "      <td>73258742504</td>\n",
       "      <td>39.927150</td>\n",
       "      <td>116.333300</td>\n",
       "    </tr>\n",
       "    <tr>\n",
       "      <th>6</th>\n",
       "      <td>73296374443</td>\n",
       "      <td>39.977010</td>\n",
       "      <td>116.332020</td>\n",
       "    </tr>\n",
       "    <tr>\n",
       "      <th>7</th>\n",
       "      <td>73324051271</td>\n",
       "      <td>39.974670</td>\n",
       "      <td>116.352210</td>\n",
       "    </tr>\n",
       "    <tr>\n",
       "      <th>8</th>\n",
       "      <td>ECO4418048913215</td>\n",
       "      <td>39.858040</td>\n",
       "      <td>116.316850</td>\n",
       "    </tr>\n",
       "    <tr>\n",
       "      <th>9</th>\n",
       "      <td>ECO4418048914362</td>\n",
       "      <td>40.044380</td>\n",
       "      <td>116.334130</td>\n",
       "    </tr>\n",
       "    <tr>\n",
       "      <th>10</th>\n",
       "      <td>ECO4418048913437</td>\n",
       "      <td>39.860560</td>\n",
       "      <td>116.541100</td>\n",
       "    </tr>\n",
       "    <tr>\n",
       "      <th>11</th>\n",
       "      <td>72312423671</td>\n",
       "      <td>39.792730</td>\n",
       "      <td>116.511470</td>\n",
       "    </tr>\n",
       "    <tr>\n",
       "      <th>12</th>\n",
       "      <td>73311643202</td>\n",
       "      <td>39.975520</td>\n",
       "      <td>116.499590</td>\n",
       "    </tr>\n",
       "    <tr>\n",
       "      <th>13</th>\n",
       "      <td>72314641362</td>\n",
       "      <td>40.030189</td>\n",
       "      <td>116.334298</td>\n",
       "    </tr>\n",
       "    <tr>\n",
       "      <th>14</th>\n",
       "      <td>73258629645</td>\n",
       "      <td>39.709927</td>\n",
       "      <td>116.327534</td>\n",
       "    </tr>\n",
       "    <tr>\n",
       "      <th>15</th>\n",
       "      <td>72237548188</td>\n",
       "      <td>39.907580</td>\n",
       "      <td>116.248350</td>\n",
       "    </tr>\n",
       "    <tr>\n",
       "      <th>16</th>\n",
       "      <td>72237453397</td>\n",
       "      <td>39.869250</td>\n",
       "      <td>116.373990</td>\n",
       "    </tr>\n",
       "    <tr>\n",
       "      <th>17</th>\n",
       "      <td>72237336404</td>\n",
       "      <td>-1.000000</td>\n",
       "      <td>-1.000000</td>\n",
       "    </tr>\n",
       "    <tr>\n",
       "      <th>18</th>\n",
       "      <td>72282189074</td>\n",
       "      <td>40.148300</td>\n",
       "      <td>116.288700</td>\n",
       "    </tr>\n",
       "    <tr>\n",
       "      <th>19</th>\n",
       "      <td>72237032190</td>\n",
       "      <td>39.905980</td>\n",
       "      <td>116.435420</td>\n",
       "    </tr>\n",
       "    <tr>\n",
       "      <th>20</th>\n",
       "      <td>73286835720</td>\n",
       "      <td>39.892870</td>\n",
       "      <td>116.406390</td>\n",
       "    </tr>\n",
       "    <tr>\n",
       "      <th>21</th>\n",
       "      <td>73311186917</td>\n",
       "      <td>40.124110</td>\n",
       "      <td>116.206990</td>\n",
       "    </tr>\n",
       "    <tr>\n",
       "      <th>22</th>\n",
       "      <td>72914753032</td>\n",
       "      <td>40.039950</td>\n",
       "      <td>116.416870</td>\n",
       "    </tr>\n",
       "    <tr>\n",
       "      <th>23</th>\n",
       "      <td>72264652434</td>\n",
       "      <td>39.928550</td>\n",
       "      <td>116.416370</td>\n",
       "    </tr>\n",
       "    <tr>\n",
       "      <th>24</th>\n",
       "      <td>73293989636</td>\n",
       "      <td>39.782180</td>\n",
       "      <td>116.566950</td>\n",
       "    </tr>\n",
       "    <tr>\n",
       "      <th>25</th>\n",
       "      <td>72237254391</td>\n",
       "      <td>39.899020</td>\n",
       "      <td>116.374960</td>\n",
       "    </tr>\n",
       "    <tr>\n",
       "      <th>26</th>\n",
       "      <td>72243160056</td>\n",
       "      <td>39.949080</td>\n",
       "      <td>116.459130</td>\n",
       "    </tr>\n",
       "    <tr>\n",
       "      <th>27</th>\n",
       "      <td>73258757413</td>\n",
       "      <td>39.932890</td>\n",
       "      <td>116.516480</td>\n",
       "    </tr>\n",
       "    <tr>\n",
       "      <th>28</th>\n",
       "      <td>72237393429</td>\n",
       "      <td>39.954940</td>\n",
       "      <td>116.432730</td>\n",
       "    </tr>\n",
       "    <tr>\n",
       "      <th>29</th>\n",
       "      <td>72237337204</td>\n",
       "      <td>39.968730</td>\n",
       "      <td>116.436060</td>\n",
       "    </tr>\n",
       "    <tr>\n",
       "      <th>30</th>\n",
       "      <td>72259118837</td>\n",
       "      <td>40.042717</td>\n",
       "      <td>116.413628</td>\n",
       "    </tr>\n",
       "    <tr>\n",
       "      <th>31</th>\n",
       "      <td>73310545125</td>\n",
       "      <td>39.979030</td>\n",
       "      <td>116.313030</td>\n",
       "    </tr>\n",
       "    <tr>\n",
       "      <th>32</th>\n",
       "      <td>73295543846</td>\n",
       "      <td>39.775100</td>\n",
       "      <td>116.543130</td>\n",
       "    </tr>\n",
       "    <tr>\n",
       "      <th>33</th>\n",
       "      <td>73222982857</td>\n",
       "      <td>40.080660</td>\n",
       "      <td>116.229440</td>\n",
       "    </tr>\n",
       "    <tr>\n",
       "      <th>34</th>\n",
       "      <td>73322041063</td>\n",
       "      <td>39.924260</td>\n",
       "      <td>116.301890</td>\n",
       "    </tr>\n",
       "    <tr>\n",
       "      <th>35</th>\n",
       "      <td>73293997258</td>\n",
       "      <td>39.907150</td>\n",
       "      <td>116.323070</td>\n",
       "    </tr>\n",
       "    <tr>\n",
       "      <th>36</th>\n",
       "      <td>72264446071</td>\n",
       "      <td>39.993190</td>\n",
       "      <td>116.331110</td>\n",
       "    </tr>\n",
       "    <tr>\n",
       "      <th>37</th>\n",
       "      <td>72219636694</td>\n",
       "      <td>40.136320</td>\n",
       "      <td>116.451270</td>\n",
       "    </tr>\n",
       "  </tbody>\n",
       "</table>\n",
       "</div>"
      ],
      "text/plain": [
       "         sale_ord_id        lat         lng\n",
       "0   ESL4418309788775  39.967890  116.461680\n",
       "1   ECO4418048903145  39.756870  116.361550\n",
       "2   ECO4418048902823  39.829430  116.283140\n",
       "3        73294182145  39.934650  116.224060\n",
       "4        72265279219  39.976910  116.332020\n",
       "5        73258742504  39.927150  116.333300\n",
       "6        73296374443  39.977010  116.332020\n",
       "7        73324051271  39.974670  116.352210\n",
       "8   ECO4418048913215  39.858040  116.316850\n",
       "9   ECO4418048914362  40.044380  116.334130\n",
       "10  ECO4418048913437  39.860560  116.541100\n",
       "11       72312423671  39.792730  116.511470\n",
       "12       73311643202  39.975520  116.499590\n",
       "13       72314641362  40.030189  116.334298\n",
       "14       73258629645  39.709927  116.327534\n",
       "15       72237548188  39.907580  116.248350\n",
       "16       72237453397  39.869250  116.373990\n",
       "17       72237336404  -1.000000   -1.000000\n",
       "18       72282189074  40.148300  116.288700\n",
       "19       72237032190  39.905980  116.435420\n",
       "20       73286835720  39.892870  116.406390\n",
       "21       73311186917  40.124110  116.206990\n",
       "22       72914753032  40.039950  116.416870\n",
       "23       72264652434  39.928550  116.416370\n",
       "24       73293989636  39.782180  116.566950\n",
       "25       72237254391  39.899020  116.374960\n",
       "26       72243160056  39.949080  116.459130\n",
       "27       73258757413  39.932890  116.516480\n",
       "28       72237393429  39.954940  116.432730\n",
       "29       72237337204  39.968730  116.436060\n",
       "30       72259118837  40.042717  116.413628\n",
       "31       73310545125  39.979030  116.313030\n",
       "32       73295543846  39.775100  116.543130\n",
       "33       73222982857  40.080660  116.229440\n",
       "34       73322041063  39.924260  116.301890\n",
       "35       73293997258  39.907150  116.323070\n",
       "36       72264446071  39.993190  116.331110\n",
       "37       72219636694  40.136320  116.451270"
      ]
     },
     "execution_count": 13,
     "metadata": {},
     "output_type": "execute_result"
    }
   ],
   "source": [
    "bj_gis"
   ]
  },
  {
   "cell_type": "code",
   "execution_count": null,
   "metadata": {
    "collapsed": true
   },
   "outputs": [],
   "source": []
  },
  {
   "cell_type": "code",
   "execution_count": 14,
   "metadata": {
    "collapsed": true
   },
   "outputs": [],
   "source": [
    "bj_gis.to_csv('E:/gz-work/project/VRP/after_filter_gis.csv')"
   ]
  },
  {
   "cell_type": "code",
   "execution_count": null,
   "metadata": {
    "collapsed": true
   },
   "outputs": [],
   "source": []
  }
 ],
 "metadata": {
  "kernelspec": {
   "display_name": "Python 3",
   "language": "python",
   "name": "python3"
  },
  "language_info": {
   "codemirror_mode": {
    "name": "ipython",
    "version": 3
   },
   "file_extension": ".py",
   "mimetype": "text/x-python",
   "name": "python",
   "nbconvert_exporter": "python",
   "pygments_lexer": "ipython3",
   "version": "3.6.3"
  }
 },
 "nbformat": 4,
 "nbformat_minor": 2
}
